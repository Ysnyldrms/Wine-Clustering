{
 "cells": [
  {
   "cell_type": "code",
   "execution_count": 1,
   "id": "0aafac90",
   "metadata": {},
   "outputs": [
    {
     "name": "stderr",
     "output_type": "stream",
     "text": [
      "C:\\Users\\User\\anaconda3\\envs\\env_full\\lib\\site-packages\\numpy\\_distributor_init.py:30: UserWarning: loaded more than 1 DLL from .libs:\n",
      "C:\\Users\\User\\anaconda3\\envs\\env_full\\lib\\site-packages\\numpy\\.libs\\libopenblas.WCDJNK7YVMPZQ2ME2ZZHJJRJ3JIKNDB7.gfortran-win_amd64.dll\n",
      "C:\\Users\\User\\anaconda3\\envs\\env_full\\lib\\site-packages\\numpy\\.libs\\libopenblas.XWYDX2IKJW2NMTWSFYNGFUWKQU3LYTCZ.gfortran-win_amd64.dll\n",
      "  warnings.warn(\"loaded more than 1 DLL from .libs:\"\n"
     ]
    }
   ],
   "source": [
    "import pandas as pd "
   ]
  },
  {
   "cell_type": "code",
   "execution_count": 2,
   "id": "199dc1cb",
   "metadata": {},
   "outputs": [],
   "source": [
    "df = pd.read_csv(\"wine-clustering.csv\")"
   ]
  },
  {
   "cell_type": "code",
   "execution_count": 3,
   "id": "bff38af7",
   "metadata": {},
   "outputs": [
    {
     "data": {
      "text/html": [
       "<div>\n",
       "<style scoped>\n",
       "    .dataframe tbody tr th:only-of-type {\n",
       "        vertical-align: middle;\n",
       "    }\n",
       "\n",
       "    .dataframe tbody tr th {\n",
       "        vertical-align: top;\n",
       "    }\n",
       "\n",
       "    .dataframe thead th {\n",
       "        text-align: right;\n",
       "    }\n",
       "</style>\n",
       "<table border=\"1\" class=\"dataframe\">\n",
       "  <thead>\n",
       "    <tr style=\"text-align: right;\">\n",
       "      <th></th>\n",
       "      <th>Alcohol</th>\n",
       "      <th>Malic_Acid</th>\n",
       "      <th>Ash</th>\n",
       "      <th>Ash_Alcanity</th>\n",
       "      <th>Magnesium</th>\n",
       "      <th>Total_Phenols</th>\n",
       "      <th>Flavanoids</th>\n",
       "      <th>Nonflavanoid_Phenols</th>\n",
       "      <th>Proanthocyanins</th>\n",
       "      <th>Color_Intensity</th>\n",
       "      <th>Hue</th>\n",
       "      <th>OD280</th>\n",
       "      <th>Proline</th>\n",
       "    </tr>\n",
       "  </thead>\n",
       "  <tbody>\n",
       "    <tr>\n",
       "      <th>0</th>\n",
       "      <td>14.23</td>\n",
       "      <td>1.71</td>\n",
       "      <td>2.43</td>\n",
       "      <td>15.6</td>\n",
       "      <td>127</td>\n",
       "      <td>2.80</td>\n",
       "      <td>3.06</td>\n",
       "      <td>0.28</td>\n",
       "      <td>2.29</td>\n",
       "      <td>5.64</td>\n",
       "      <td>1.04</td>\n",
       "      <td>3.92</td>\n",
       "      <td>1065</td>\n",
       "    </tr>\n",
       "    <tr>\n",
       "      <th>1</th>\n",
       "      <td>13.20</td>\n",
       "      <td>1.78</td>\n",
       "      <td>2.14</td>\n",
       "      <td>11.2</td>\n",
       "      <td>100</td>\n",
       "      <td>2.65</td>\n",
       "      <td>2.76</td>\n",
       "      <td>0.26</td>\n",
       "      <td>1.28</td>\n",
       "      <td>4.38</td>\n",
       "      <td>1.05</td>\n",
       "      <td>3.40</td>\n",
       "      <td>1050</td>\n",
       "    </tr>\n",
       "    <tr>\n",
       "      <th>2</th>\n",
       "      <td>13.16</td>\n",
       "      <td>2.36</td>\n",
       "      <td>2.67</td>\n",
       "      <td>18.6</td>\n",
       "      <td>101</td>\n",
       "      <td>2.80</td>\n",
       "      <td>3.24</td>\n",
       "      <td>0.30</td>\n",
       "      <td>2.81</td>\n",
       "      <td>5.68</td>\n",
       "      <td>1.03</td>\n",
       "      <td>3.17</td>\n",
       "      <td>1185</td>\n",
       "    </tr>\n",
       "    <tr>\n",
       "      <th>3</th>\n",
       "      <td>14.37</td>\n",
       "      <td>1.95</td>\n",
       "      <td>2.50</td>\n",
       "      <td>16.8</td>\n",
       "      <td>113</td>\n",
       "      <td>3.85</td>\n",
       "      <td>3.49</td>\n",
       "      <td>0.24</td>\n",
       "      <td>2.18</td>\n",
       "      <td>7.80</td>\n",
       "      <td>0.86</td>\n",
       "      <td>3.45</td>\n",
       "      <td>1480</td>\n",
       "    </tr>\n",
       "    <tr>\n",
       "      <th>4</th>\n",
       "      <td>13.24</td>\n",
       "      <td>2.59</td>\n",
       "      <td>2.87</td>\n",
       "      <td>21.0</td>\n",
       "      <td>118</td>\n",
       "      <td>2.80</td>\n",
       "      <td>2.69</td>\n",
       "      <td>0.39</td>\n",
       "      <td>1.82</td>\n",
       "      <td>4.32</td>\n",
       "      <td>1.04</td>\n",
       "      <td>2.93</td>\n",
       "      <td>735</td>\n",
       "    </tr>\n",
       "    <tr>\n",
       "      <th>...</th>\n",
       "      <td>...</td>\n",
       "      <td>...</td>\n",
       "      <td>...</td>\n",
       "      <td>...</td>\n",
       "      <td>...</td>\n",
       "      <td>...</td>\n",
       "      <td>...</td>\n",
       "      <td>...</td>\n",
       "      <td>...</td>\n",
       "      <td>...</td>\n",
       "      <td>...</td>\n",
       "      <td>...</td>\n",
       "      <td>...</td>\n",
       "    </tr>\n",
       "    <tr>\n",
       "      <th>173</th>\n",
       "      <td>13.71</td>\n",
       "      <td>5.65</td>\n",
       "      <td>2.45</td>\n",
       "      <td>20.5</td>\n",
       "      <td>95</td>\n",
       "      <td>1.68</td>\n",
       "      <td>0.61</td>\n",
       "      <td>0.52</td>\n",
       "      <td>1.06</td>\n",
       "      <td>7.70</td>\n",
       "      <td>0.64</td>\n",
       "      <td>1.74</td>\n",
       "      <td>740</td>\n",
       "    </tr>\n",
       "    <tr>\n",
       "      <th>174</th>\n",
       "      <td>13.40</td>\n",
       "      <td>3.91</td>\n",
       "      <td>2.48</td>\n",
       "      <td>23.0</td>\n",
       "      <td>102</td>\n",
       "      <td>1.80</td>\n",
       "      <td>0.75</td>\n",
       "      <td>0.43</td>\n",
       "      <td>1.41</td>\n",
       "      <td>7.30</td>\n",
       "      <td>0.70</td>\n",
       "      <td>1.56</td>\n",
       "      <td>750</td>\n",
       "    </tr>\n",
       "    <tr>\n",
       "      <th>175</th>\n",
       "      <td>13.27</td>\n",
       "      <td>4.28</td>\n",
       "      <td>2.26</td>\n",
       "      <td>20.0</td>\n",
       "      <td>120</td>\n",
       "      <td>1.59</td>\n",
       "      <td>0.69</td>\n",
       "      <td>0.43</td>\n",
       "      <td>1.35</td>\n",
       "      <td>10.20</td>\n",
       "      <td>0.59</td>\n",
       "      <td>1.56</td>\n",
       "      <td>835</td>\n",
       "    </tr>\n",
       "    <tr>\n",
       "      <th>176</th>\n",
       "      <td>13.17</td>\n",
       "      <td>2.59</td>\n",
       "      <td>2.37</td>\n",
       "      <td>20.0</td>\n",
       "      <td>120</td>\n",
       "      <td>1.65</td>\n",
       "      <td>0.68</td>\n",
       "      <td>0.53</td>\n",
       "      <td>1.46</td>\n",
       "      <td>9.30</td>\n",
       "      <td>0.60</td>\n",
       "      <td>1.62</td>\n",
       "      <td>840</td>\n",
       "    </tr>\n",
       "    <tr>\n",
       "      <th>177</th>\n",
       "      <td>14.13</td>\n",
       "      <td>4.10</td>\n",
       "      <td>2.74</td>\n",
       "      <td>24.5</td>\n",
       "      <td>96</td>\n",
       "      <td>2.05</td>\n",
       "      <td>0.76</td>\n",
       "      <td>0.56</td>\n",
       "      <td>1.35</td>\n",
       "      <td>9.20</td>\n",
       "      <td>0.61</td>\n",
       "      <td>1.60</td>\n",
       "      <td>560</td>\n",
       "    </tr>\n",
       "  </tbody>\n",
       "</table>\n",
       "<p>178 rows × 13 columns</p>\n",
       "</div>"
      ],
      "text/plain": [
       "     Alcohol  Malic_Acid   Ash  Ash_Alcanity  Magnesium  Total_Phenols  \\\n",
       "0      14.23        1.71  2.43          15.6        127           2.80   \n",
       "1      13.20        1.78  2.14          11.2        100           2.65   \n",
       "2      13.16        2.36  2.67          18.6        101           2.80   \n",
       "3      14.37        1.95  2.50          16.8        113           3.85   \n",
       "4      13.24        2.59  2.87          21.0        118           2.80   \n",
       "..       ...         ...   ...           ...        ...            ...   \n",
       "173    13.71        5.65  2.45          20.5         95           1.68   \n",
       "174    13.40        3.91  2.48          23.0        102           1.80   \n",
       "175    13.27        4.28  2.26          20.0        120           1.59   \n",
       "176    13.17        2.59  2.37          20.0        120           1.65   \n",
       "177    14.13        4.10  2.74          24.5         96           2.05   \n",
       "\n",
       "     Flavanoids  Nonflavanoid_Phenols  Proanthocyanins  Color_Intensity   Hue  \\\n",
       "0          3.06                  0.28             2.29             5.64  1.04   \n",
       "1          2.76                  0.26             1.28             4.38  1.05   \n",
       "2          3.24                  0.30             2.81             5.68  1.03   \n",
       "3          3.49                  0.24             2.18             7.80  0.86   \n",
       "4          2.69                  0.39             1.82             4.32  1.04   \n",
       "..          ...                   ...              ...              ...   ...   \n",
       "173        0.61                  0.52             1.06             7.70  0.64   \n",
       "174        0.75                  0.43             1.41             7.30  0.70   \n",
       "175        0.69                  0.43             1.35            10.20  0.59   \n",
       "176        0.68                  0.53             1.46             9.30  0.60   \n",
       "177        0.76                  0.56             1.35             9.20  0.61   \n",
       "\n",
       "     OD280  Proline  \n",
       "0     3.92     1065  \n",
       "1     3.40     1050  \n",
       "2     3.17     1185  \n",
       "3     3.45     1480  \n",
       "4     2.93      735  \n",
       "..     ...      ...  \n",
       "173   1.74      740  \n",
       "174   1.56      750  \n",
       "175   1.56      835  \n",
       "176   1.62      840  \n",
       "177   1.60      560  \n",
       "\n",
       "[178 rows x 13 columns]"
      ]
     },
     "execution_count": 3,
     "metadata": {},
     "output_type": "execute_result"
    }
   ],
   "source": [
    "df"
   ]
  },
  {
   "cell_type": "code",
   "execution_count": 4,
   "id": "794ca96d",
   "metadata": {},
   "outputs": [
    {
     "data": {
      "text/html": [
       "<style type=\"text/css\">\n",
       "#T_59cb1_row21_col1 {\n",
       "  background-color: lightgreen;\n",
       "}\n",
       "</style>\n",
       "<table id=\"T_59cb1\">\n",
       "  <thead>\n",
       "    <tr>\n",
       "      <th class=\"blank level0\" >&nbsp;</th>\n",
       "      <th id=\"T_59cb1_level0_col0\" class=\"col_heading level0 col0\" >Description</th>\n",
       "      <th id=\"T_59cb1_level0_col1\" class=\"col_heading level0 col1\" >Value</th>\n",
       "    </tr>\n",
       "  </thead>\n",
       "  <tbody>\n",
       "    <tr>\n",
       "      <th id=\"T_59cb1_level0_row0\" class=\"row_heading level0 row0\" >0</th>\n",
       "      <td id=\"T_59cb1_row0_col0\" class=\"data row0 col0\" >session_id</td>\n",
       "      <td id=\"T_59cb1_row0_col1\" class=\"data row0 col1\" >8353</td>\n",
       "    </tr>\n",
       "    <tr>\n",
       "      <th id=\"T_59cb1_level0_row1\" class=\"row_heading level0 row1\" >1</th>\n",
       "      <td id=\"T_59cb1_row1_col0\" class=\"data row1 col0\" >Original Data</td>\n",
       "      <td id=\"T_59cb1_row1_col1\" class=\"data row1 col1\" >(178, 13)</td>\n",
       "    </tr>\n",
       "    <tr>\n",
       "      <th id=\"T_59cb1_level0_row2\" class=\"row_heading level0 row2\" >2</th>\n",
       "      <td id=\"T_59cb1_row2_col0\" class=\"data row2 col0\" >Missing Values</td>\n",
       "      <td id=\"T_59cb1_row2_col1\" class=\"data row2 col1\" >False</td>\n",
       "    </tr>\n",
       "    <tr>\n",
       "      <th id=\"T_59cb1_level0_row3\" class=\"row_heading level0 row3\" >3</th>\n",
       "      <td id=\"T_59cb1_row3_col0\" class=\"data row3 col0\" >Numeric Features</td>\n",
       "      <td id=\"T_59cb1_row3_col1\" class=\"data row3 col1\" >13</td>\n",
       "    </tr>\n",
       "    <tr>\n",
       "      <th id=\"T_59cb1_level0_row4\" class=\"row_heading level0 row4\" >4</th>\n",
       "      <td id=\"T_59cb1_row4_col0\" class=\"data row4 col0\" >Categorical Features</td>\n",
       "      <td id=\"T_59cb1_row4_col1\" class=\"data row4 col1\" >0</td>\n",
       "    </tr>\n",
       "    <tr>\n",
       "      <th id=\"T_59cb1_level0_row5\" class=\"row_heading level0 row5\" >5</th>\n",
       "      <td id=\"T_59cb1_row5_col0\" class=\"data row5 col0\" >Ordinal Features</td>\n",
       "      <td id=\"T_59cb1_row5_col1\" class=\"data row5 col1\" >False</td>\n",
       "    </tr>\n",
       "    <tr>\n",
       "      <th id=\"T_59cb1_level0_row6\" class=\"row_heading level0 row6\" >6</th>\n",
       "      <td id=\"T_59cb1_row6_col0\" class=\"data row6 col0\" >High Cardinality Features</td>\n",
       "      <td id=\"T_59cb1_row6_col1\" class=\"data row6 col1\" >False</td>\n",
       "    </tr>\n",
       "    <tr>\n",
       "      <th id=\"T_59cb1_level0_row7\" class=\"row_heading level0 row7\" >7</th>\n",
       "      <td id=\"T_59cb1_row7_col0\" class=\"data row7 col0\" >High Cardinality Method</td>\n",
       "      <td id=\"T_59cb1_row7_col1\" class=\"data row7 col1\" >None</td>\n",
       "    </tr>\n",
       "    <tr>\n",
       "      <th id=\"T_59cb1_level0_row8\" class=\"row_heading level0 row8\" >8</th>\n",
       "      <td id=\"T_59cb1_row8_col0\" class=\"data row8 col0\" >Transformed Data</td>\n",
       "      <td id=\"T_59cb1_row8_col1\" class=\"data row8 col1\" >(178, 13)</td>\n",
       "    </tr>\n",
       "    <tr>\n",
       "      <th id=\"T_59cb1_level0_row9\" class=\"row_heading level0 row9\" >9</th>\n",
       "      <td id=\"T_59cb1_row9_col0\" class=\"data row9 col0\" >CPU Jobs</td>\n",
       "      <td id=\"T_59cb1_row9_col1\" class=\"data row9 col1\" >-1</td>\n",
       "    </tr>\n",
       "    <tr>\n",
       "      <th id=\"T_59cb1_level0_row10\" class=\"row_heading level0 row10\" >10</th>\n",
       "      <td id=\"T_59cb1_row10_col0\" class=\"data row10 col0\" >Use GPU</td>\n",
       "      <td id=\"T_59cb1_row10_col1\" class=\"data row10 col1\" >False</td>\n",
       "    </tr>\n",
       "    <tr>\n",
       "      <th id=\"T_59cb1_level0_row11\" class=\"row_heading level0 row11\" >11</th>\n",
       "      <td id=\"T_59cb1_row11_col0\" class=\"data row11 col0\" >Log Experiment</td>\n",
       "      <td id=\"T_59cb1_row11_col1\" class=\"data row11 col1\" >False</td>\n",
       "    </tr>\n",
       "    <tr>\n",
       "      <th id=\"T_59cb1_level0_row12\" class=\"row_heading level0 row12\" >12</th>\n",
       "      <td id=\"T_59cb1_row12_col0\" class=\"data row12 col0\" >Experiment Name</td>\n",
       "      <td id=\"T_59cb1_row12_col1\" class=\"data row12 col1\" >cluster-default-name</td>\n",
       "    </tr>\n",
       "    <tr>\n",
       "      <th id=\"T_59cb1_level0_row13\" class=\"row_heading level0 row13\" >13</th>\n",
       "      <td id=\"T_59cb1_row13_col0\" class=\"data row13 col0\" >USI</td>\n",
       "      <td id=\"T_59cb1_row13_col1\" class=\"data row13 col1\" >8730</td>\n",
       "    </tr>\n",
       "    <tr>\n",
       "      <th id=\"T_59cb1_level0_row14\" class=\"row_heading level0 row14\" >14</th>\n",
       "      <td id=\"T_59cb1_row14_col0\" class=\"data row14 col0\" >Imputation Type</td>\n",
       "      <td id=\"T_59cb1_row14_col1\" class=\"data row14 col1\" >simple</td>\n",
       "    </tr>\n",
       "    <tr>\n",
       "      <th id=\"T_59cb1_level0_row15\" class=\"row_heading level0 row15\" >15</th>\n",
       "      <td id=\"T_59cb1_row15_col0\" class=\"data row15 col0\" >Iterative Imputation Iteration</td>\n",
       "      <td id=\"T_59cb1_row15_col1\" class=\"data row15 col1\" >None</td>\n",
       "    </tr>\n",
       "    <tr>\n",
       "      <th id=\"T_59cb1_level0_row16\" class=\"row_heading level0 row16\" >16</th>\n",
       "      <td id=\"T_59cb1_row16_col0\" class=\"data row16 col0\" >Numeric Imputer</td>\n",
       "      <td id=\"T_59cb1_row16_col1\" class=\"data row16 col1\" >mean</td>\n",
       "    </tr>\n",
       "    <tr>\n",
       "      <th id=\"T_59cb1_level0_row17\" class=\"row_heading level0 row17\" >17</th>\n",
       "      <td id=\"T_59cb1_row17_col0\" class=\"data row17 col0\" >Iterative Imputation Numeric Model</td>\n",
       "      <td id=\"T_59cb1_row17_col1\" class=\"data row17 col1\" >None</td>\n",
       "    </tr>\n",
       "    <tr>\n",
       "      <th id=\"T_59cb1_level0_row18\" class=\"row_heading level0 row18\" >18</th>\n",
       "      <td id=\"T_59cb1_row18_col0\" class=\"data row18 col0\" >Categorical Imputer</td>\n",
       "      <td id=\"T_59cb1_row18_col1\" class=\"data row18 col1\" >mode</td>\n",
       "    </tr>\n",
       "    <tr>\n",
       "      <th id=\"T_59cb1_level0_row19\" class=\"row_heading level0 row19\" >19</th>\n",
       "      <td id=\"T_59cb1_row19_col0\" class=\"data row19 col0\" >Iterative Imputation Categorical Model</td>\n",
       "      <td id=\"T_59cb1_row19_col1\" class=\"data row19 col1\" >None</td>\n",
       "    </tr>\n",
       "    <tr>\n",
       "      <th id=\"T_59cb1_level0_row20\" class=\"row_heading level0 row20\" >20</th>\n",
       "      <td id=\"T_59cb1_row20_col0\" class=\"data row20 col0\" >Unknown Categoricals Handling</td>\n",
       "      <td id=\"T_59cb1_row20_col1\" class=\"data row20 col1\" >least_frequent</td>\n",
       "    </tr>\n",
       "    <tr>\n",
       "      <th id=\"T_59cb1_level0_row21\" class=\"row_heading level0 row21\" >21</th>\n",
       "      <td id=\"T_59cb1_row21_col0\" class=\"data row21 col0\" >Normalize</td>\n",
       "      <td id=\"T_59cb1_row21_col1\" class=\"data row21 col1\" >True</td>\n",
       "    </tr>\n",
       "    <tr>\n",
       "      <th id=\"T_59cb1_level0_row22\" class=\"row_heading level0 row22\" >22</th>\n",
       "      <td id=\"T_59cb1_row22_col0\" class=\"data row22 col0\" >Normalize Method</td>\n",
       "      <td id=\"T_59cb1_row22_col1\" class=\"data row22 col1\" >zscore</td>\n",
       "    </tr>\n",
       "    <tr>\n",
       "      <th id=\"T_59cb1_level0_row23\" class=\"row_heading level0 row23\" >23</th>\n",
       "      <td id=\"T_59cb1_row23_col0\" class=\"data row23 col0\" >Transformation</td>\n",
       "      <td id=\"T_59cb1_row23_col1\" class=\"data row23 col1\" >False</td>\n",
       "    </tr>\n",
       "    <tr>\n",
       "      <th id=\"T_59cb1_level0_row24\" class=\"row_heading level0 row24\" >24</th>\n",
       "      <td id=\"T_59cb1_row24_col0\" class=\"data row24 col0\" >Transformation Method</td>\n",
       "      <td id=\"T_59cb1_row24_col1\" class=\"data row24 col1\" >None</td>\n",
       "    </tr>\n",
       "    <tr>\n",
       "      <th id=\"T_59cb1_level0_row25\" class=\"row_heading level0 row25\" >25</th>\n",
       "      <td id=\"T_59cb1_row25_col0\" class=\"data row25 col0\" >PCA</td>\n",
       "      <td id=\"T_59cb1_row25_col1\" class=\"data row25 col1\" >False</td>\n",
       "    </tr>\n",
       "    <tr>\n",
       "      <th id=\"T_59cb1_level0_row26\" class=\"row_heading level0 row26\" >26</th>\n",
       "      <td id=\"T_59cb1_row26_col0\" class=\"data row26 col0\" >PCA Method</td>\n",
       "      <td id=\"T_59cb1_row26_col1\" class=\"data row26 col1\" >None</td>\n",
       "    </tr>\n",
       "    <tr>\n",
       "      <th id=\"T_59cb1_level0_row27\" class=\"row_heading level0 row27\" >27</th>\n",
       "      <td id=\"T_59cb1_row27_col0\" class=\"data row27 col0\" >PCA Components</td>\n",
       "      <td id=\"T_59cb1_row27_col1\" class=\"data row27 col1\" >None</td>\n",
       "    </tr>\n",
       "    <tr>\n",
       "      <th id=\"T_59cb1_level0_row28\" class=\"row_heading level0 row28\" >28</th>\n",
       "      <td id=\"T_59cb1_row28_col0\" class=\"data row28 col0\" >Ignore Low Variance</td>\n",
       "      <td id=\"T_59cb1_row28_col1\" class=\"data row28 col1\" >False</td>\n",
       "    </tr>\n",
       "    <tr>\n",
       "      <th id=\"T_59cb1_level0_row29\" class=\"row_heading level0 row29\" >29</th>\n",
       "      <td id=\"T_59cb1_row29_col0\" class=\"data row29 col0\" >Combine Rare Levels</td>\n",
       "      <td id=\"T_59cb1_row29_col1\" class=\"data row29 col1\" >False</td>\n",
       "    </tr>\n",
       "    <tr>\n",
       "      <th id=\"T_59cb1_level0_row30\" class=\"row_heading level0 row30\" >30</th>\n",
       "      <td id=\"T_59cb1_row30_col0\" class=\"data row30 col0\" >Rare Level Threshold</td>\n",
       "      <td id=\"T_59cb1_row30_col1\" class=\"data row30 col1\" >None</td>\n",
       "    </tr>\n",
       "    <tr>\n",
       "      <th id=\"T_59cb1_level0_row31\" class=\"row_heading level0 row31\" >31</th>\n",
       "      <td id=\"T_59cb1_row31_col0\" class=\"data row31 col0\" >Numeric Binning</td>\n",
       "      <td id=\"T_59cb1_row31_col1\" class=\"data row31 col1\" >False</td>\n",
       "    </tr>\n",
       "    <tr>\n",
       "      <th id=\"T_59cb1_level0_row32\" class=\"row_heading level0 row32\" >32</th>\n",
       "      <td id=\"T_59cb1_row32_col0\" class=\"data row32 col0\" >Remove Outliers</td>\n",
       "      <td id=\"T_59cb1_row32_col1\" class=\"data row32 col1\" >False</td>\n",
       "    </tr>\n",
       "    <tr>\n",
       "      <th id=\"T_59cb1_level0_row33\" class=\"row_heading level0 row33\" >33</th>\n",
       "      <td id=\"T_59cb1_row33_col0\" class=\"data row33 col0\" >Outliers Threshold</td>\n",
       "      <td id=\"T_59cb1_row33_col1\" class=\"data row33 col1\" >None</td>\n",
       "    </tr>\n",
       "    <tr>\n",
       "      <th id=\"T_59cb1_level0_row34\" class=\"row_heading level0 row34\" >34</th>\n",
       "      <td id=\"T_59cb1_row34_col0\" class=\"data row34 col0\" >Remove Multicollinearity</td>\n",
       "      <td id=\"T_59cb1_row34_col1\" class=\"data row34 col1\" >False</td>\n",
       "    </tr>\n",
       "    <tr>\n",
       "      <th id=\"T_59cb1_level0_row35\" class=\"row_heading level0 row35\" >35</th>\n",
       "      <td id=\"T_59cb1_row35_col0\" class=\"data row35 col0\" >Multicollinearity Threshold</td>\n",
       "      <td id=\"T_59cb1_row35_col1\" class=\"data row35 col1\" >None</td>\n",
       "    </tr>\n",
       "    <tr>\n",
       "      <th id=\"T_59cb1_level0_row36\" class=\"row_heading level0 row36\" >36</th>\n",
       "      <td id=\"T_59cb1_row36_col0\" class=\"data row36 col0\" >Remove Perfect Collinearity</td>\n",
       "      <td id=\"T_59cb1_row36_col1\" class=\"data row36 col1\" >False</td>\n",
       "    </tr>\n",
       "    <tr>\n",
       "      <th id=\"T_59cb1_level0_row37\" class=\"row_heading level0 row37\" >37</th>\n",
       "      <td id=\"T_59cb1_row37_col0\" class=\"data row37 col0\" >Clustering</td>\n",
       "      <td id=\"T_59cb1_row37_col1\" class=\"data row37 col1\" >False</td>\n",
       "    </tr>\n",
       "    <tr>\n",
       "      <th id=\"T_59cb1_level0_row38\" class=\"row_heading level0 row38\" >38</th>\n",
       "      <td id=\"T_59cb1_row38_col0\" class=\"data row38 col0\" >Clustering Iteration</td>\n",
       "      <td id=\"T_59cb1_row38_col1\" class=\"data row38 col1\" >None</td>\n",
       "    </tr>\n",
       "    <tr>\n",
       "      <th id=\"T_59cb1_level0_row39\" class=\"row_heading level0 row39\" >39</th>\n",
       "      <td id=\"T_59cb1_row39_col0\" class=\"data row39 col0\" >Polynomial Features</td>\n",
       "      <td id=\"T_59cb1_row39_col1\" class=\"data row39 col1\" >False</td>\n",
       "    </tr>\n",
       "    <tr>\n",
       "      <th id=\"T_59cb1_level0_row40\" class=\"row_heading level0 row40\" >40</th>\n",
       "      <td id=\"T_59cb1_row40_col0\" class=\"data row40 col0\" >Polynomial Degree</td>\n",
       "      <td id=\"T_59cb1_row40_col1\" class=\"data row40 col1\" >None</td>\n",
       "    </tr>\n",
       "    <tr>\n",
       "      <th id=\"T_59cb1_level0_row41\" class=\"row_heading level0 row41\" >41</th>\n",
       "      <td id=\"T_59cb1_row41_col0\" class=\"data row41 col0\" >Trignometry Features</td>\n",
       "      <td id=\"T_59cb1_row41_col1\" class=\"data row41 col1\" >False</td>\n",
       "    </tr>\n",
       "    <tr>\n",
       "      <th id=\"T_59cb1_level0_row42\" class=\"row_heading level0 row42\" >42</th>\n",
       "      <td id=\"T_59cb1_row42_col0\" class=\"data row42 col0\" >Polynomial Threshold</td>\n",
       "      <td id=\"T_59cb1_row42_col1\" class=\"data row42 col1\" >None</td>\n",
       "    </tr>\n",
       "    <tr>\n",
       "      <th id=\"T_59cb1_level0_row43\" class=\"row_heading level0 row43\" >43</th>\n",
       "      <td id=\"T_59cb1_row43_col0\" class=\"data row43 col0\" >Group Features</td>\n",
       "      <td id=\"T_59cb1_row43_col1\" class=\"data row43 col1\" >False</td>\n",
       "    </tr>\n",
       "    <tr>\n",
       "      <th id=\"T_59cb1_level0_row44\" class=\"row_heading level0 row44\" >44</th>\n",
       "      <td id=\"T_59cb1_row44_col0\" class=\"data row44 col0\" >Feature Selection</td>\n",
       "      <td id=\"T_59cb1_row44_col1\" class=\"data row44 col1\" >False</td>\n",
       "    </tr>\n",
       "    <tr>\n",
       "      <th id=\"T_59cb1_level0_row45\" class=\"row_heading level0 row45\" >45</th>\n",
       "      <td id=\"T_59cb1_row45_col0\" class=\"data row45 col0\" >Feature Selection Method</td>\n",
       "      <td id=\"T_59cb1_row45_col1\" class=\"data row45 col1\" >classic</td>\n",
       "    </tr>\n",
       "    <tr>\n",
       "      <th id=\"T_59cb1_level0_row46\" class=\"row_heading level0 row46\" >46</th>\n",
       "      <td id=\"T_59cb1_row46_col0\" class=\"data row46 col0\" >Features Selection Threshold</td>\n",
       "      <td id=\"T_59cb1_row46_col1\" class=\"data row46 col1\" >None</td>\n",
       "    </tr>\n",
       "    <tr>\n",
       "      <th id=\"T_59cb1_level0_row47\" class=\"row_heading level0 row47\" >47</th>\n",
       "      <td id=\"T_59cb1_row47_col0\" class=\"data row47 col0\" >Feature Interaction</td>\n",
       "      <td id=\"T_59cb1_row47_col1\" class=\"data row47 col1\" >False</td>\n",
       "    </tr>\n",
       "    <tr>\n",
       "      <th id=\"T_59cb1_level0_row48\" class=\"row_heading level0 row48\" >48</th>\n",
       "      <td id=\"T_59cb1_row48_col0\" class=\"data row48 col0\" >Feature Ratio</td>\n",
       "      <td id=\"T_59cb1_row48_col1\" class=\"data row48 col1\" >False</td>\n",
       "    </tr>\n",
       "    <tr>\n",
       "      <th id=\"T_59cb1_level0_row49\" class=\"row_heading level0 row49\" >49</th>\n",
       "      <td id=\"T_59cb1_row49_col0\" class=\"data row49 col0\" >Interaction Threshold</td>\n",
       "      <td id=\"T_59cb1_row49_col1\" class=\"data row49 col1\" >None</td>\n",
       "    </tr>\n",
       "  </tbody>\n",
       "</table>\n"
      ],
      "text/plain": [
       "<pandas.io.formats.style.Styler at 0x2381c599910>"
      ]
     },
     "metadata": {},
     "output_type": "display_data"
    }
   ],
   "source": [
    "from pycaret.clustering import *\n",
    "s = setup(df, normalize = True)"
   ]
  },
  {
   "cell_type": "code",
   "execution_count": 5,
   "id": "2aee3969",
   "metadata": {},
   "outputs": [
    {
     "data": {
      "text/html": [
       "<div>\n",
       "<style scoped>\n",
       "    .dataframe tbody tr th:only-of-type {\n",
       "        vertical-align: middle;\n",
       "    }\n",
       "\n",
       "    .dataframe tbody tr th {\n",
       "        vertical-align: top;\n",
       "    }\n",
       "\n",
       "    .dataframe thead th {\n",
       "        text-align: right;\n",
       "    }\n",
       "</style>\n",
       "<table border=\"1\" class=\"dataframe\">\n",
       "  <thead>\n",
       "    <tr style=\"text-align: right;\">\n",
       "      <th></th>\n",
       "      <th>Silhouette</th>\n",
       "      <th>Calinski-Harabasz</th>\n",
       "      <th>Davies-Bouldin</th>\n",
       "      <th>Homogeneity</th>\n",
       "      <th>Rand Index</th>\n",
       "      <th>Completeness</th>\n",
       "    </tr>\n",
       "  </thead>\n",
       "  <tbody>\n",
       "    <tr>\n",
       "      <th>0</th>\n",
       "      <td>0.2517</td>\n",
       "      <td>56.1545</td>\n",
       "      <td>1.8172</td>\n",
       "      <td>0</td>\n",
       "      <td>0</td>\n",
       "      <td>0</td>\n",
       "    </tr>\n",
       "  </tbody>\n",
       "</table>\n",
       "</div>"
      ],
      "text/plain": [
       "   Silhouette  Calinski-Harabasz  Davies-Bouldin  Homogeneity  Rand Index  \\\n",
       "0      0.2517            56.1545          1.8172            0           0   \n",
       "\n",
       "   Completeness  \n",
       "0             0  "
      ]
     },
     "metadata": {},
     "output_type": "display_data"
    }
   ],
   "source": [
    "kmeans = create_model('kmeans')"
   ]
  },
  {
   "cell_type": "code",
   "execution_count": 6,
   "id": "9817a086",
   "metadata": {},
   "outputs": [
    {
     "data": {
      "application/vnd.jupyter.widget-view+json": {
       "model_id": "f2b8e67c20b547ec9947e129957d9da5",
       "version_major": 2,
       "version_minor": 0
      },
      "text/plain": [
       "interactive(children=(ToggleButtons(description='Plot Type:', icons=('',), options=(('Cluster PCA Plot (2d)', …"
      ]
     },
     "metadata": {},
     "output_type": "display_data"
    }
   ],
   "source": [
    "evaluate_model(kmeans)"
   ]
  },
  {
   "cell_type": "code",
   "execution_count": 7,
   "id": "24b089f8",
   "metadata": {},
   "outputs": [
    {
     "data": {
      "application/vnd.plotly.v1+json": {
       "config": {
        "plotlyServerURL": "https://plot.ly"
       },
       "data": [
        {
         "customdata": [
          [
           14.23
          ],
          [
           13.58
          ],
          [
           13.68
          ],
          [
           13.76
          ],
          [
           13.51
          ],
          [
           13.48
          ],
          [
           13.28
          ],
          [
           13.05
          ],
          [
           13.07
          ],
          [
           14.22
          ],
          [
           13.56
          ],
          [
           13.88
          ],
          [
           13.05
          ],
          [
           13.73
          ],
          [
           14.21
          ],
          [
           13.9
          ],
          [
           14.1
          ],
          [
           13.94
          ],
          [
           13.05
          ],
          [
           13.83
          ],
          [
           13.82
          ],
          [
           13.77
          ],
          [
           13.74
          ],
          [
           13.56
          ],
          [
           14.22
          ],
          [
           13.29
          ],
          [
           13.72
          ],
          [
           14.38
          ],
          [
           14.02
          ],
          [
           13.41
          ],
          [
           13.3
          ],
          [
           13.2
          ],
          [
           13.16
          ],
          [
           13.87
          ],
          [
           14.2
          ],
          [
           14.39
          ],
          [
           14.06
          ],
          [
           14.83
          ],
          [
           13.86
          ],
          [
           14.1
          ],
          [
           14.12
          ],
          [
           13.75
          ],
          [
           14.75
          ],
          [
           14.38
          ],
          [
           14.37
          ],
          [
           14.3
          ],
          [
           13.83
          ],
          [
           14.19
          ],
          [
           13.64
          ],
          [
           14.06
          ],
          [
           13.71
          ],
          [
           12.85
          ],
          [
           13.63
          ],
          [
           13.39
          ]
         ],
         "hovertemplate": "Cluster=Cluster 0<br>PCA1=%{x}<br>PCA2=%{y}<br>Feature=%{customdata[0]}<extra></extra>",
         "legendgroup": "Cluster 0",
         "marker": {
          "color": "#636efa",
          "opacity": 0.5,
          "symbol": "circle"
         },
         "mode": "markers",
         "name": "Cluster 0",
         "orientation": "v",
         "showlegend": true,
         "textposition": "top center",
         "type": "scatter",
         "x": [
          3.3167495727539062,
          2.67741060256958,
          1.6285792589187622,
          1.9026912450790405,
          1.410388469696045,
          1.903826355934143,
          1.3848621845245361,
          1.1222076416015625,
          1.5021941661834717,
          2.5298006534576416,
          2.58809494972229,
          3.0708065032958984,
          2.101351737976074,
          2.5002198219299316,
          1.136165976524353,
          2.821338653564453,
          2.0098512172698975,
          2.7074906826019287,
          3.214916467666626,
          2.858959674835205,
          3.5056028366088867,
          2.2247912883758545,
          2.1469874382019043,
          2.469329357147217,
          2.741518020629883,
          2.1737406253814697,
          3.1393802165985107,
          2.7266011238098145,
          2.2561092376708984,
          0.6684819459915161,
          1.2354240417480469,
          2.2094662189483643,
          2.516739845275879,
          2.1884069442749023,
          3.050253391265869,
          2.4490883350372314,
          2.0594370365142822,
          2.5108742713928223,
          2.7536282539367676,
          3.479736089706421,
          1.7547529935836792,
          2.113462448120117,
          3.4581565856933594,
          4.3127827644348145,
          3.757065534591675,
          2.1719555854797363,
          1.8989710807800293,
          3.541984796524048,
          2.084521532058716,
          3.1244025230407715,
          2.535224437713623,
          1.644988775253296,
          2.305187702178955,
          1.7752782106399536
         ],
         "xaxis": "x",
         "y": [
          -1.4434610605239868,
          -1.4718729257583618,
          -0.052704378962516785,
          -1.6330593824386597,
          -0.6979339718818665,
          -0.17671047151088715,
          -0.6586394309997559,
          -0.11410991847515106,
          0.7694313526153564,
          -1.8030025959014893,
          -0.7796161770820618,
          -1.155918836593628,
          0.07100873440504074,
          -1.2408324480056763,
          -1.7771068811416626,
          -0.6462581157684326,
          -1.2470289468765259,
          -1.7519667148590088,
          -0.1669929176568985,
          -0.7452784180641174,
          -1.6127336025238037,
          -1.8751678466796875,
          -1.0167509317398071,
          -1.3290073871612549,
          -1.4365482330322266,
          -1.2121998071670532,
          -1.7315788269042969,
          -1.1913347244262695,
          -0.1914624571800232,
          -0.16996121406555176,
          0.0898062214255333,
          0.33339235186576843,
          -1.0311510562896729,
          -0.6895691156387329,
          -2.1224005222320557,
          -1.1748511791229248,
          -1.6089627742767334,
          -0.918070375919342,
          -0.7894372344017029,
          -1.3023329973220825,
          -0.6119771599769592,
          -0.6757068037986755,
          -1.1306300163269043,
          -2.095975160598755,
          -2.756370782852173,
          -2.3273043632507324,
          -1.631367802619934,
          -2.5183420181274414,
          -1.06113862991333,
          -0.7868970036506653,
          0.0918407142162323,
          0.5162782669067383,
          -1.6625515222549438,
          -0.6861751675605774
         ],
         "yaxis": "y"
        },
        {
         "customdata": [
          [
           12
          ],
          [
           12.42
          ],
          [
           12.51
          ],
          [
           11.82
          ],
          [
           12.6
          ],
          [
           12.08
          ],
          [
           12
          ],
          [
           12.69
          ],
          [
           12.25
          ],
          [
           12.08
          ],
          [
           12.08
          ],
          [
           11.65
          ],
          [
           12.29
          ],
          [
           12.72
          ],
          [
           12.08
          ],
          [
           12.52
          ],
          [
           11.76
          ],
          [
           11.41
          ],
          [
           11.03
          ],
          [
           11.82
          ],
          [
           12.42
          ],
          [
           12.77
          ],
          [
           12.07
          ],
          [
           11.79
          ],
          [
           12.04
          ],
          [
           12.37
          ],
          [
           12.16
          ],
          [
           12.22
          ],
          [
           12.67
          ],
          [
           11.64
          ],
          [
           13.67
          ],
          [
           12.17
          ],
          [
           11.66
          ],
          [
           12.29
          ],
          [
           13.34
          ],
          [
           12.37
          ],
          [
           13.49
          ],
          [
           13.03
          ],
          [
           12.37
          ],
          [
           12.33
          ],
          [
           12
          ],
          [
           12.64
          ],
          [
           12.08
          ],
          [
           11.84
          ]
         ],
         "hovertemplate": "Cluster=Cluster 1<br>PCA1=%{x}<br>PCA2=%{y}<br>Feature=%{customdata[0]}<extra></extra>",
         "legendgroup": "Cluster 1",
         "marker": {
          "color": "#EF553B",
          "opacity": 0.5,
          "symbol": "circle"
         },
         "mode": "markers",
         "name": "Cluster 1",
         "orientation": "v",
         "showlegend": true,
         "textposition": "top center",
         "type": "scatter",
         "x": [
          -0.5510897636413574,
          -1.772498607635498,
          0.3923543095588684,
          -0.6597949266433716,
          -0.5495314598083496,
          0.7977190017700195,
          -1.56448233127594,
          -1.9325549602508545,
          -0.3662673234939575,
          -1.3492848873138428,
          -0.5557221174240112,
          -0.5580421090126038,
          1.0310496091842651,
          -1.6206721067428589,
          -0.4941851794719696,
          -0.2787025272846222,
          -1.3031446933746338,
          -0.4570716321468353,
          0.4820742607116699,
          -0.25288891792297363,
          -0.1072273999452591,
          -2.4330124855041504,
          -0.0968097671866417,
          -1.5971574783325195,
          -1.7928330898284912,
          -0.47956424951553345,
          -0.8068318963050842,
          0.08253568410873413,
          0.7879049777984619,
          -1.1151107549667358,
          0.030606964603066444,
          -0.6096804141998291,
          -0.8679935336112976,
          -1.5722157955169678,
          -0.8128042817115784,
          0.1833834946155548,
          -0.7253718376159668,
          0.3700143098831177,
          -0.9285825490951538,
          -1.5424797534942627,
          0.7620635032653809,
          -1.8362497091293335,
          -0.49487584829330444,
          -1.457377314567566
         ],
         "xaxis": "x",
         "y": [
          2.2221601009368896,
          1.7172878980636597,
          2.0987305641174316,
          2.6799609661102295,
          2.2931275367736816,
          2.3769471645355225,
          1.8522142171859741,
          1.559495449066162,
          2.1693522930145264,
          2.1180002689361572,
          2.6575398445129395,
          2.372985363006592,
          2.565568208694458,
          1.3555830717086792,
          1.93904447555542,
          1.9305671453475952,
          0.7631715536117554,
          2.2694153785705566,
          3.8717823028564453,
          2.8214917182922363,
          1.9289215803146362,
          1.2571394443511963,
          2.109997034072876,
          1.2081440687179565,
          1.1502870321273804,
          1.9388408660888672,
          2.233829975128174,
          2.3062334060668945,
          2.026625871658325,
          1.80224609375,
          1.262785792350769,
          1.9080579280853271,
          2.4440994262695312,
          0.8849829435348511,
          0.2205144613981247,
          2.42714524269104,
          1.063645839691162,
          2.1539061069488525,
          3.073484420776367,
          1.3814427852630615,
          3.3750526905059814,
          0.829983651638031,
          2.3812434673309326,
          1.3833503723144531
         ],
         "yaxis": "y"
        },
        {
         "customdata": [
          [
           13.17
          ],
          [
           12.58
          ],
          [
           13.23
          ],
          [
           13.11
          ],
          [
           12.86
          ],
          [
           13.5
          ],
          [
           13.32
          ],
          [
           12.87
          ],
          [
           13.88
          ],
          [
           13.16
          ],
          [
           12.25
          ],
          [
           13.62
          ],
          [
           13.52
          ],
          [
           13.36
          ],
          [
           12.93
          ],
          [
           12.79
          ],
          [
           13.08
          ],
          [
           13.48
          ],
          [
           12.45
          ],
          [
           13.27
          ],
          [
           13.4
          ],
          [
           13.71
          ],
          [
           14.16
          ],
          [
           12.77
          ],
          [
           12.2
          ],
          [
           13.4
          ],
          [
           13.58
          ],
          [
           13.84
          ],
          [
           12.82
          ],
          [
           13.73
          ],
          [
           13.78
          ],
          [
           12.96
          ],
          [
           12.85
          ],
          [
           13.69
          ],
          [
           12.36
          ],
          [
           12.84
          ],
          [
           14.34
          ],
          [
           13.45
          ],
          [
           13.49
          ],
          [
           14.13
          ],
          [
           12.25
          ],
          [
           12.6
          ],
          [
           12.51
          ],
          [
           12.7
          ],
          [
           12.81
          ],
          [
           12.88
          ],
          [
           13.05
          ],
          [
           13.17
          ],
          [
           12.53
          ]
         ],
         "hovertemplate": "Cluster=Cluster 2<br>PCA1=%{x}<br>PCA2=%{y}<br>Feature=%{customdata[0]}<extra></extra>",
         "legendgroup": "Cluster 2",
         "marker": {
          "color": "#00cc96",
          "opacity": 0.5,
          "symbol": "circle"
         },
         "mode": "markers",
         "name": "Cluster 2",
         "orientation": "v",
         "showlegend": true,
         "textposition": "top center",
         "type": "scatter",
         "x": [
          -3.6048693656921387,
          -2.7371506690979004,
          -2.7601449489593506,
          -1.8125406503677368,
          -1.327101707458496,
          -2.320736885070801,
          -2.8070638179779053,
          -3.5826416015625,
          -4.280638694763184,
          -2.6256210803985596,
          -2.209866523742676,
          -2.3751943111419678,
          -2.9856326580047607,
          -2.2865607738494873,
          -2.7788119316101074,
          -2.5498311519622803,
          -2.8996596336364746,
          -1.6099122762680054,
          -3.392155885696411,
          -2.677839994430542,
          -2.6019558906555176,
          -3.3705244064331055,
          -2.465555191040039,
          -3.6779189109802246,
          -3.2116172313690186,
          -2.380927562713623,
          -2.181412696838379,
          -2.8898258209228516,
          -2.9290847778320312,
          -3.530032157897949,
          -2.9492998123168945,
          -2.59749698638916,
          -2.847672700881958,
          -2.240156412124634,
          -3.1431312561035156,
          -2.3744709491729736,
          -1.048181414604187,
          -2.4061107635498047,
          -3.094275951385498,
          -3.208757162094116,
          -3.9157533645629883,
          -3.0638418197631836,
          -2.3698697090148926,
          -2.1468112468719482,
          -2.9369397163391113,
          -2.384500741958618,
          -2.5389766693115234,
          -2.387016773223877,
          -3.936462163925171
         ],
         "xaxis": "x",
         "y": [
          -1.8023838996887207,
          -0.40988534688949585,
          -2.1389315128326416,
          -1.5276435613632202,
          -0.17038841545581818,
          -2.3563647270202637,
          -1.570533037185669,
          -1.2727028131484985,
          -0.6496712565422058,
          -0.5631603598594666,
          -1.1600528955459595,
          -0.48233357071876526,
          -0.4892178475856781,
          -0.3725073039531708,
          -0.2868046164512634,
          -2.0452826023101807,
          -2.041055917739868,
          -2.4066362380981445,
          -1.3118749856948853,
          -2.7608983516693115,
          -1.7572283744812012,
          -2.2162892818450928,
          -2.1937971115112305,
          -0.8477481007575989,
          0.2512489855289459,
          -2.5886659622192383,
          -2.077535629272461,
          -1.9252185821533203,
          -1.274446964263916,
          -0.8825263977050781,
          -1.5553078651428223,
          -0.6979656219482422,
          -0.5560436844825745,
          -1.1754645109176636,
          -0.7381609678268433,
          -0.2919796109199524,
          -3.5150864124298096,
          -2.5923547744750977,
          -0.348842591047287,
          -2.7689175605773926,
          -0.15458302199840546,
          -0.3534132242202759,
          0.4596349596977234,
          -0.36825478076934814,
          -0.26386138796806335,
          -0.3745826184749603,
          0.08744318783283234,
          -2.2973456382751465,
          -0.6596871018409729
         ],
         "yaxis": "y"
        },
        {
         "customdata": [
          [
           12.34
          ],
          [
           12.99
          ],
          [
           11.96
          ],
          [
           12.29
          ],
          [
           12.37
          ],
          [
           12.29
          ],
          [
           12.47
          ],
          [
           11.62
          ],
          [
           13.86
          ],
          [
           12.33
          ],
          [
           12.7
          ],
          [
           12.72
          ],
          [
           11.81
          ],
          [
           12.21
          ],
          [
           12.37
          ],
          [
           11.46
          ],
          [
           13.11
          ],
          [
           12.37
          ],
          [
           13.24
          ],
          [
           11.45
          ],
          [
           11.56
          ],
          [
           12.42
          ],
          [
           13.05
          ],
          [
           11.87
          ],
          [
           13.05
          ],
          [
           12.43
          ],
          [
           13.5
          ],
          [
           12.93
          ],
          [
           13.24
          ],
          [
           11.61
          ],
          [
           11.84
          ]
         ],
         "hovertemplate": "Cluster=Cluster 3<br>PCA1=%{x}<br>PCA2=%{y}<br>Feature=%{customdata[0]}<extra></extra>",
         "legendgroup": "Cluster 3",
         "marker": {
          "color": "#ab63fa",
          "opacity": 0.5,
          "symbol": "circle"
         },
         "mode": "markers",
         "name": "Cluster 3",
         "orientation": "v",
         "showlegend": true,
         "textposition": "top center",
         "type": "scatter",
         "x": [
          -0.16117344796657562,
          2.5622265338897705,
          1.832567572593689,
          1.4102158546447754,
          2.251908540725708,
          0.7466660737991333,
          2.5438647270202637,
          0.9574552774429321,
          1.6576826572418213,
          1.2629300355911255,
          0.3761504888534546,
          1.0345780849456787,
          -0.5439522862434387,
          1.9756194353103638,
          0.9002279043197632,
          1.4205687046051025,
          2.248506784439087,
          2.0502610206604004,
          0.4622088074684143,
          0.7396214604377747,
          1.3363219499588013,
          -1.1770859956741333,
          -0.4623356759548187,
          0.9784737825393677,
          0.9900799989700317,
          0.03848736360669136,
          1.7615762948989868,
          1.0865702629089355,
          1.0089088678359985,
          1.578275203704834,
          0.8353204131126404
         ],
         "xaxis": "x",
         "y": [
          1.1644827127456665,
          -0.2601966857910156,
          1.287878155708313,
          2.1661901473999023,
          1.4327410459518433,
          2.312930107116699,
          -0.16927343606948853,
          2.223526954650879,
          0.9567128419876099,
          0.7708491683006287,
          1.0270429849624634,
          1.4507086277008057,
          0.3689265847206116,
          1.403282880783081,
          0.7639115452766418,
          1.4182051420211792,
          1.8845916986465454,
          1.925032138824463,
          -0.33074256777763367,
          1.408955454826355,
          -0.253336638212204,
          0.6639665365219116,
          0.6182865500450134,
          1.4455691576004028,
          -0.9406660795211792,
          1.2667620182037354,
          0.31714919209480286,
          -0.24174438416957855,
          -0.8698300123214722,
          1.4620336294174194,
          1.473670244216919
         ],
         "yaxis": "y"
        }
       ],
       "layout": {
        "height": 600,
        "legend": {
         "title": {
          "text": "Cluster"
         },
         "tracegroupgap": 0
        },
        "margin": {
         "t": 60
        },
        "plot_bgcolor": "rgb(240,240,240)",
        "template": {
         "data": {
          "bar": [
           {
            "error_x": {
             "color": "#2a3f5f"
            },
            "error_y": {
             "color": "#2a3f5f"
            },
            "marker": {
             "line": {
              "color": "#E5ECF6",
              "width": 0.5
             },
             "pattern": {
              "fillmode": "overlay",
              "size": 10,
              "solidity": 0.2
             }
            },
            "type": "bar"
           }
          ],
          "barpolar": [
           {
            "marker": {
             "line": {
              "color": "#E5ECF6",
              "width": 0.5
             },
             "pattern": {
              "fillmode": "overlay",
              "size": 10,
              "solidity": 0.2
             }
            },
            "type": "barpolar"
           }
          ],
          "carpet": [
           {
            "aaxis": {
             "endlinecolor": "#2a3f5f",
             "gridcolor": "white",
             "linecolor": "white",
             "minorgridcolor": "white",
             "startlinecolor": "#2a3f5f"
            },
            "baxis": {
             "endlinecolor": "#2a3f5f",
             "gridcolor": "white",
             "linecolor": "white",
             "minorgridcolor": "white",
             "startlinecolor": "#2a3f5f"
            },
            "type": "carpet"
           }
          ],
          "choropleth": [
           {
            "colorbar": {
             "outlinewidth": 0,
             "ticks": ""
            },
            "type": "choropleth"
           }
          ],
          "contour": [
           {
            "colorbar": {
             "outlinewidth": 0,
             "ticks": ""
            },
            "colorscale": [
             [
              0,
              "#0d0887"
             ],
             [
              0.1111111111111111,
              "#46039f"
             ],
             [
              0.2222222222222222,
              "#7201a8"
             ],
             [
              0.3333333333333333,
              "#9c179e"
             ],
             [
              0.4444444444444444,
              "#bd3786"
             ],
             [
              0.5555555555555556,
              "#d8576b"
             ],
             [
              0.6666666666666666,
              "#ed7953"
             ],
             [
              0.7777777777777778,
              "#fb9f3a"
             ],
             [
              0.8888888888888888,
              "#fdca26"
             ],
             [
              1,
              "#f0f921"
             ]
            ],
            "type": "contour"
           }
          ],
          "contourcarpet": [
           {
            "colorbar": {
             "outlinewidth": 0,
             "ticks": ""
            },
            "type": "contourcarpet"
           }
          ],
          "heatmap": [
           {
            "colorbar": {
             "outlinewidth": 0,
             "ticks": ""
            },
            "colorscale": [
             [
              0,
              "#0d0887"
             ],
             [
              0.1111111111111111,
              "#46039f"
             ],
             [
              0.2222222222222222,
              "#7201a8"
             ],
             [
              0.3333333333333333,
              "#9c179e"
             ],
             [
              0.4444444444444444,
              "#bd3786"
             ],
             [
              0.5555555555555556,
              "#d8576b"
             ],
             [
              0.6666666666666666,
              "#ed7953"
             ],
             [
              0.7777777777777778,
              "#fb9f3a"
             ],
             [
              0.8888888888888888,
              "#fdca26"
             ],
             [
              1,
              "#f0f921"
             ]
            ],
            "type": "heatmap"
           }
          ],
          "heatmapgl": [
           {
            "colorbar": {
             "outlinewidth": 0,
             "ticks": ""
            },
            "colorscale": [
             [
              0,
              "#0d0887"
             ],
             [
              0.1111111111111111,
              "#46039f"
             ],
             [
              0.2222222222222222,
              "#7201a8"
             ],
             [
              0.3333333333333333,
              "#9c179e"
             ],
             [
              0.4444444444444444,
              "#bd3786"
             ],
             [
              0.5555555555555556,
              "#d8576b"
             ],
             [
              0.6666666666666666,
              "#ed7953"
             ],
             [
              0.7777777777777778,
              "#fb9f3a"
             ],
             [
              0.8888888888888888,
              "#fdca26"
             ],
             [
              1,
              "#f0f921"
             ]
            ],
            "type": "heatmapgl"
           }
          ],
          "histogram": [
           {
            "marker": {
             "pattern": {
              "fillmode": "overlay",
              "size": 10,
              "solidity": 0.2
             }
            },
            "type": "histogram"
           }
          ],
          "histogram2d": [
           {
            "colorbar": {
             "outlinewidth": 0,
             "ticks": ""
            },
            "colorscale": [
             [
              0,
              "#0d0887"
             ],
             [
              0.1111111111111111,
              "#46039f"
             ],
             [
              0.2222222222222222,
              "#7201a8"
             ],
             [
              0.3333333333333333,
              "#9c179e"
             ],
             [
              0.4444444444444444,
              "#bd3786"
             ],
             [
              0.5555555555555556,
              "#d8576b"
             ],
             [
              0.6666666666666666,
              "#ed7953"
             ],
             [
              0.7777777777777778,
              "#fb9f3a"
             ],
             [
              0.8888888888888888,
              "#fdca26"
             ],
             [
              1,
              "#f0f921"
             ]
            ],
            "type": "histogram2d"
           }
          ],
          "histogram2dcontour": [
           {
            "colorbar": {
             "outlinewidth": 0,
             "ticks": ""
            },
            "colorscale": [
             [
              0,
              "#0d0887"
             ],
             [
              0.1111111111111111,
              "#46039f"
             ],
             [
              0.2222222222222222,
              "#7201a8"
             ],
             [
              0.3333333333333333,
              "#9c179e"
             ],
             [
              0.4444444444444444,
              "#bd3786"
             ],
             [
              0.5555555555555556,
              "#d8576b"
             ],
             [
              0.6666666666666666,
              "#ed7953"
             ],
             [
              0.7777777777777778,
              "#fb9f3a"
             ],
             [
              0.8888888888888888,
              "#fdca26"
             ],
             [
              1,
              "#f0f921"
             ]
            ],
            "type": "histogram2dcontour"
           }
          ],
          "mesh3d": [
           {
            "colorbar": {
             "outlinewidth": 0,
             "ticks": ""
            },
            "type": "mesh3d"
           }
          ],
          "parcoords": [
           {
            "line": {
             "colorbar": {
              "outlinewidth": 0,
              "ticks": ""
             }
            },
            "type": "parcoords"
           }
          ],
          "pie": [
           {
            "automargin": true,
            "type": "pie"
           }
          ],
          "scatter": [
           {
            "marker": {
             "colorbar": {
              "outlinewidth": 0,
              "ticks": ""
             }
            },
            "type": "scatter"
           }
          ],
          "scatter3d": [
           {
            "line": {
             "colorbar": {
              "outlinewidth": 0,
              "ticks": ""
             }
            },
            "marker": {
             "colorbar": {
              "outlinewidth": 0,
              "ticks": ""
             }
            },
            "type": "scatter3d"
           }
          ],
          "scattercarpet": [
           {
            "marker": {
             "colorbar": {
              "outlinewidth": 0,
              "ticks": ""
             }
            },
            "type": "scattercarpet"
           }
          ],
          "scattergeo": [
           {
            "marker": {
             "colorbar": {
              "outlinewidth": 0,
              "ticks": ""
             }
            },
            "type": "scattergeo"
           }
          ],
          "scattergl": [
           {
            "marker": {
             "colorbar": {
              "outlinewidth": 0,
              "ticks": ""
             }
            },
            "type": "scattergl"
           }
          ],
          "scattermapbox": [
           {
            "marker": {
             "colorbar": {
              "outlinewidth": 0,
              "ticks": ""
             }
            },
            "type": "scattermapbox"
           }
          ],
          "scatterpolar": [
           {
            "marker": {
             "colorbar": {
              "outlinewidth": 0,
              "ticks": ""
             }
            },
            "type": "scatterpolar"
           }
          ],
          "scatterpolargl": [
           {
            "marker": {
             "colorbar": {
              "outlinewidth": 0,
              "ticks": ""
             }
            },
            "type": "scatterpolargl"
           }
          ],
          "scatterternary": [
           {
            "marker": {
             "colorbar": {
              "outlinewidth": 0,
              "ticks": ""
             }
            },
            "type": "scatterternary"
           }
          ],
          "surface": [
           {
            "colorbar": {
             "outlinewidth": 0,
             "ticks": ""
            },
            "colorscale": [
             [
              0,
              "#0d0887"
             ],
             [
              0.1111111111111111,
              "#46039f"
             ],
             [
              0.2222222222222222,
              "#7201a8"
             ],
             [
              0.3333333333333333,
              "#9c179e"
             ],
             [
              0.4444444444444444,
              "#bd3786"
             ],
             [
              0.5555555555555556,
              "#d8576b"
             ],
             [
              0.6666666666666666,
              "#ed7953"
             ],
             [
              0.7777777777777778,
              "#fb9f3a"
             ],
             [
              0.8888888888888888,
              "#fdca26"
             ],
             [
              1,
              "#f0f921"
             ]
            ],
            "type": "surface"
           }
          ],
          "table": [
           {
            "cells": {
             "fill": {
              "color": "#EBF0F8"
             },
             "line": {
              "color": "white"
             }
            },
            "header": {
             "fill": {
              "color": "#C8D4E3"
             },
             "line": {
              "color": "white"
             }
            },
            "type": "table"
           }
          ]
         },
         "layout": {
          "annotationdefaults": {
           "arrowcolor": "#2a3f5f",
           "arrowhead": 0,
           "arrowwidth": 1
          },
          "autotypenumbers": "strict",
          "coloraxis": {
           "colorbar": {
            "outlinewidth": 0,
            "ticks": ""
           }
          },
          "colorscale": {
           "diverging": [
            [
             0,
             "#8e0152"
            ],
            [
             0.1,
             "#c51b7d"
            ],
            [
             0.2,
             "#de77ae"
            ],
            [
             0.3,
             "#f1b6da"
            ],
            [
             0.4,
             "#fde0ef"
            ],
            [
             0.5,
             "#f7f7f7"
            ],
            [
             0.6,
             "#e6f5d0"
            ],
            [
             0.7,
             "#b8e186"
            ],
            [
             0.8,
             "#7fbc41"
            ],
            [
             0.9,
             "#4d9221"
            ],
            [
             1,
             "#276419"
            ]
           ],
           "sequential": [
            [
             0,
             "#0d0887"
            ],
            [
             0.1111111111111111,
             "#46039f"
            ],
            [
             0.2222222222222222,
             "#7201a8"
            ],
            [
             0.3333333333333333,
             "#9c179e"
            ],
            [
             0.4444444444444444,
             "#bd3786"
            ],
            [
             0.5555555555555556,
             "#d8576b"
            ],
            [
             0.6666666666666666,
             "#ed7953"
            ],
            [
             0.7777777777777778,
             "#fb9f3a"
            ],
            [
             0.8888888888888888,
             "#fdca26"
            ],
            [
             1,
             "#f0f921"
            ]
           ],
           "sequentialminus": [
            [
             0,
             "#0d0887"
            ],
            [
             0.1111111111111111,
             "#46039f"
            ],
            [
             0.2222222222222222,
             "#7201a8"
            ],
            [
             0.3333333333333333,
             "#9c179e"
            ],
            [
             0.4444444444444444,
             "#bd3786"
            ],
            [
             0.5555555555555556,
             "#d8576b"
            ],
            [
             0.6666666666666666,
             "#ed7953"
            ],
            [
             0.7777777777777778,
             "#fb9f3a"
            ],
            [
             0.8888888888888888,
             "#fdca26"
            ],
            [
             1,
             "#f0f921"
            ]
           ]
          },
          "colorway": [
           "#636efa",
           "#EF553B",
           "#00cc96",
           "#ab63fa",
           "#FFA15A",
           "#19d3f3",
           "#FF6692",
           "#B6E880",
           "#FF97FF",
           "#FECB52"
          ],
          "font": {
           "color": "#2a3f5f"
          },
          "geo": {
           "bgcolor": "white",
           "lakecolor": "white",
           "landcolor": "#E5ECF6",
           "showlakes": true,
           "showland": true,
           "subunitcolor": "white"
          },
          "hoverlabel": {
           "align": "left"
          },
          "hovermode": "closest",
          "mapbox": {
           "style": "light"
          },
          "paper_bgcolor": "white",
          "plot_bgcolor": "#E5ECF6",
          "polar": {
           "angularaxis": {
            "gridcolor": "white",
            "linecolor": "white",
            "ticks": ""
           },
           "bgcolor": "#E5ECF6",
           "radialaxis": {
            "gridcolor": "white",
            "linecolor": "white",
            "ticks": ""
           }
          },
          "scene": {
           "xaxis": {
            "backgroundcolor": "#E5ECF6",
            "gridcolor": "white",
            "gridwidth": 2,
            "linecolor": "white",
            "showbackground": true,
            "ticks": "",
            "zerolinecolor": "white"
           },
           "yaxis": {
            "backgroundcolor": "#E5ECF6",
            "gridcolor": "white",
            "gridwidth": 2,
            "linecolor": "white",
            "showbackground": true,
            "ticks": "",
            "zerolinecolor": "white"
           },
           "zaxis": {
            "backgroundcolor": "#E5ECF6",
            "gridcolor": "white",
            "gridwidth": 2,
            "linecolor": "white",
            "showbackground": true,
            "ticks": "",
            "zerolinecolor": "white"
           }
          },
          "shapedefaults": {
           "line": {
            "color": "#2a3f5f"
           }
          },
          "ternary": {
           "aaxis": {
            "gridcolor": "white",
            "linecolor": "white",
            "ticks": ""
           },
           "baxis": {
            "gridcolor": "white",
            "linecolor": "white",
            "ticks": ""
           },
           "bgcolor": "#E5ECF6",
           "caxis": {
            "gridcolor": "white",
            "linecolor": "white",
            "ticks": ""
           }
          },
          "title": {
           "x": 0.05
          },
          "xaxis": {
           "automargin": true,
           "gridcolor": "white",
           "linecolor": "white",
           "ticks": "",
           "title": {
            "standoff": 15
           },
           "zerolinecolor": "white",
           "zerolinewidth": 2
          },
          "yaxis": {
           "automargin": true,
           "gridcolor": "white",
           "linecolor": "white",
           "ticks": "",
           "title": {
            "standoff": 15
           },
           "zerolinecolor": "white",
           "zerolinewidth": 2
          }
         }
        },
        "title": {
         "text": "2D Cluster PCA Plot"
        },
        "xaxis": {
         "anchor": "y",
         "domain": [
          0,
          1
         ],
         "title": {
          "text": "PCA1"
         }
        },
        "yaxis": {
         "anchor": "x",
         "domain": [
          0,
          1
         ],
         "title": {
          "text": "PCA2"
         }
        }
       }
      },
      "text/html": [
       "<div>                            <div id=\"dd64560d-7bfb-4bc2-b798-f5db244c7411\" class=\"plotly-graph-div\" style=\"height:600px; width:100%;\"></div>            <script type=\"text/javascript\">                require([\"plotly\"], function(Plotly) {                    window.PLOTLYENV=window.PLOTLYENV || {};                                    if (document.getElementById(\"dd64560d-7bfb-4bc2-b798-f5db244c7411\")) {                    Plotly.newPlot(                        \"dd64560d-7bfb-4bc2-b798-f5db244c7411\",                        [{\"customdata\":[[14.23],[13.58],[13.68],[13.76],[13.51],[13.48],[13.28],[13.05],[13.07],[14.22],[13.56],[13.88],[13.05],[13.73],[14.21],[13.9],[14.1],[13.94],[13.05],[13.83],[13.82],[13.77],[13.74],[13.56],[14.22],[13.29],[13.72],[14.38],[14.02],[13.41],[13.3],[13.2],[13.16],[13.87],[14.2],[14.39],[14.06],[14.83],[13.86],[14.1],[14.12],[13.75],[14.75],[14.38],[14.37],[14.3],[13.83],[14.19],[13.64],[14.06],[13.71],[12.85],[13.63],[13.39]],\"hovertemplate\":\"Cluster=Cluster 0<br>PCA1=%{x}<br>PCA2=%{y}<br>Feature=%{customdata[0]}<extra></extra>\",\"legendgroup\":\"Cluster 0\",\"marker\":{\"color\":\"#636efa\",\"opacity\":0.5,\"symbol\":\"circle\"},\"mode\":\"markers\",\"name\":\"Cluster 0\",\"orientation\":\"v\",\"showlegend\":true,\"x\":[3.3167495727539062,2.67741060256958,1.6285792589187622,1.9026912450790405,1.410388469696045,1.903826355934143,1.3848621845245361,1.1222076416015625,1.5021941661834717,2.5298006534576416,2.58809494972229,3.0708065032958984,2.101351737976074,2.5002198219299316,1.136165976524353,2.821338653564453,2.0098512172698975,2.7074906826019287,3.214916467666626,2.858959674835205,3.5056028366088867,2.2247912883758545,2.1469874382019043,2.469329357147217,2.741518020629883,2.1737406253814697,3.1393802165985107,2.7266011238098145,2.2561092376708984,0.6684819459915161,1.2354240417480469,2.2094662189483643,2.516739845275879,2.1884069442749023,3.050253391265869,2.4490883350372314,2.0594370365142822,2.5108742713928223,2.7536282539367676,3.479736089706421,1.7547529935836792,2.113462448120117,3.4581565856933594,4.3127827644348145,3.757065534591675,2.1719555854797363,1.8989710807800293,3.541984796524048,2.084521532058716,3.1244025230407715,2.535224437713623,1.644988775253296,2.305187702178955,1.7752782106399536],\"xaxis\":\"x\",\"y\":[-1.4434610605239868,-1.4718729257583618,-0.052704378962516785,-1.6330593824386597,-0.6979339718818665,-0.17671047151088715,-0.6586394309997559,-0.11410991847515106,0.7694313526153564,-1.8030025959014893,-0.7796161770820618,-1.155918836593628,0.07100873440504074,-1.2408324480056763,-1.7771068811416626,-0.6462581157684326,-1.2470289468765259,-1.7519667148590088,-0.1669929176568985,-0.7452784180641174,-1.6127336025238037,-1.8751678466796875,-1.0167509317398071,-1.3290073871612549,-1.4365482330322266,-1.2121998071670532,-1.7315788269042969,-1.1913347244262695,-0.1914624571800232,-0.16996121406555176,0.0898062214255333,0.33339235186576843,-1.0311510562896729,-0.6895691156387329,-2.1224005222320557,-1.1748511791229248,-1.6089627742767334,-0.918070375919342,-0.7894372344017029,-1.3023329973220825,-0.6119771599769592,-0.6757068037986755,-1.1306300163269043,-2.095975160598755,-2.756370782852173,-2.3273043632507324,-1.631367802619934,-2.5183420181274414,-1.06113862991333,-0.7868970036506653,0.0918407142162323,0.5162782669067383,-1.6625515222549438,-0.6861751675605774],\"yaxis\":\"y\",\"type\":\"scatter\",\"textposition\":\"top center\"},{\"customdata\":[[12.0],[12.42],[12.51],[11.82],[12.6],[12.08],[12.0],[12.69],[12.25],[12.08],[12.08],[11.65],[12.29],[12.72],[12.08],[12.52],[11.76],[11.41],[11.03],[11.82],[12.42],[12.77],[12.07],[11.79],[12.04],[12.37],[12.16],[12.22],[12.67],[11.64],[13.67],[12.17],[11.66],[12.29],[13.34],[12.37],[13.49],[13.03],[12.37],[12.33],[12.0],[12.64],[12.08],[11.84]],\"hovertemplate\":\"Cluster=Cluster 1<br>PCA1=%{x}<br>PCA2=%{y}<br>Feature=%{customdata[0]}<extra></extra>\",\"legendgroup\":\"Cluster 1\",\"marker\":{\"color\":\"#EF553B\",\"opacity\":0.5,\"symbol\":\"circle\"},\"mode\":\"markers\",\"name\":\"Cluster 1\",\"orientation\":\"v\",\"showlegend\":true,\"x\":[-0.5510897636413574,-1.772498607635498,0.3923543095588684,-0.6597949266433716,-0.5495314598083496,0.7977190017700195,-1.56448233127594,-1.9325549602508545,-0.3662673234939575,-1.3492848873138428,-0.5557221174240112,-0.5580421090126038,1.0310496091842651,-1.6206721067428589,-0.4941851794719696,-0.2787025272846222,-1.3031446933746338,-0.4570716321468353,0.4820742607116699,-0.25288891792297363,-0.1072273999452591,-2.4330124855041504,-0.0968097671866417,-1.5971574783325195,-1.7928330898284912,-0.47956424951553345,-0.8068318963050842,0.08253568410873413,0.7879049777984619,-1.1151107549667358,0.030606964603066444,-0.6096804141998291,-0.8679935336112976,-1.5722157955169678,-0.8128042817115784,0.1833834946155548,-0.7253718376159668,0.3700143098831177,-0.9285825490951538,-1.5424797534942627,0.7620635032653809,-1.8362497091293335,-0.49487584829330444,-1.457377314567566],\"xaxis\":\"x\",\"y\":[2.2221601009368896,1.7172878980636597,2.0987305641174316,2.6799609661102295,2.2931275367736816,2.3769471645355225,1.8522142171859741,1.559495449066162,2.1693522930145264,2.1180002689361572,2.6575398445129395,2.372985363006592,2.565568208694458,1.3555830717086792,1.93904447555542,1.9305671453475952,0.7631715536117554,2.2694153785705566,3.8717823028564453,2.8214917182922363,1.9289215803146362,1.2571394443511963,2.109997034072876,1.2081440687179565,1.1502870321273804,1.9388408660888672,2.233829975128174,2.3062334060668945,2.026625871658325,1.80224609375,1.262785792350769,1.9080579280853271,2.4440994262695312,0.8849829435348511,0.2205144613981247,2.42714524269104,1.063645839691162,2.1539061069488525,3.073484420776367,1.3814427852630615,3.3750526905059814,0.829983651638031,2.3812434673309326,1.3833503723144531],\"yaxis\":\"y\",\"type\":\"scatter\",\"textposition\":\"top center\"},{\"customdata\":[[13.17],[12.58],[13.23],[13.11],[12.86],[13.5],[13.32],[12.87],[13.88],[13.16],[12.25],[13.62],[13.52],[13.36],[12.93],[12.79],[13.08],[13.48],[12.45],[13.27],[13.4],[13.71],[14.16],[12.77],[12.2],[13.4],[13.58],[13.84],[12.82],[13.73],[13.78],[12.96],[12.85],[13.69],[12.36],[12.84],[14.34],[13.45],[13.49],[14.13],[12.25],[12.6],[12.51],[12.7],[12.81],[12.88],[13.05],[13.17],[12.53]],\"hovertemplate\":\"Cluster=Cluster 2<br>PCA1=%{x}<br>PCA2=%{y}<br>Feature=%{customdata[0]}<extra></extra>\",\"legendgroup\":\"Cluster 2\",\"marker\":{\"color\":\"#00cc96\",\"opacity\":0.5,\"symbol\":\"circle\"},\"mode\":\"markers\",\"name\":\"Cluster 2\",\"orientation\":\"v\",\"showlegend\":true,\"x\":[-3.6048693656921387,-2.7371506690979004,-2.7601449489593506,-1.8125406503677368,-1.327101707458496,-2.320736885070801,-2.8070638179779053,-3.5826416015625,-4.280638694763184,-2.6256210803985596,-2.209866523742676,-2.3751943111419678,-2.9856326580047607,-2.2865607738494873,-2.7788119316101074,-2.5498311519622803,-2.8996596336364746,-1.6099122762680054,-3.392155885696411,-2.677839994430542,-2.6019558906555176,-3.3705244064331055,-2.465555191040039,-3.6779189109802246,-3.2116172313690186,-2.380927562713623,-2.181412696838379,-2.8898258209228516,-2.9290847778320312,-3.530032157897949,-2.9492998123168945,-2.59749698638916,-2.847672700881958,-2.240156412124634,-3.1431312561035156,-2.3744709491729736,-1.048181414604187,-2.4061107635498047,-3.094275951385498,-3.208757162094116,-3.9157533645629883,-3.0638418197631836,-2.3698697090148926,-2.1468112468719482,-2.9369397163391113,-2.384500741958618,-2.5389766693115234,-2.387016773223877,-3.936462163925171],\"xaxis\":\"x\",\"y\":[-1.8023838996887207,-0.40988534688949585,-2.1389315128326416,-1.5276435613632202,-0.17038841545581818,-2.3563647270202637,-1.570533037185669,-1.2727028131484985,-0.6496712565422058,-0.5631603598594666,-1.1600528955459595,-0.48233357071876526,-0.4892178475856781,-0.3725073039531708,-0.2868046164512634,-2.0452826023101807,-2.041055917739868,-2.4066362380981445,-1.3118749856948853,-2.7608983516693115,-1.7572283744812012,-2.2162892818450928,-2.1937971115112305,-0.8477481007575989,0.2512489855289459,-2.5886659622192383,-2.077535629272461,-1.9252185821533203,-1.274446964263916,-0.8825263977050781,-1.5553078651428223,-0.6979656219482422,-0.5560436844825745,-1.1754645109176636,-0.7381609678268433,-0.2919796109199524,-3.5150864124298096,-2.5923547744750977,-0.348842591047287,-2.7689175605773926,-0.15458302199840546,-0.3534132242202759,0.4596349596977234,-0.36825478076934814,-0.26386138796806335,-0.3745826184749603,0.08744318783283234,-2.2973456382751465,-0.6596871018409729],\"yaxis\":\"y\",\"type\":\"scatter\",\"textposition\":\"top center\"},{\"customdata\":[[12.34],[12.99],[11.96],[12.29],[12.37],[12.29],[12.47],[11.62],[13.86],[12.33],[12.7],[12.72],[11.81],[12.21],[12.37],[11.46],[13.11],[12.37],[13.24],[11.45],[11.56],[12.42],[13.05],[11.87],[13.05],[12.43],[13.5],[12.93],[13.24],[11.61],[11.84]],\"hovertemplate\":\"Cluster=Cluster 3<br>PCA1=%{x}<br>PCA2=%{y}<br>Feature=%{customdata[0]}<extra></extra>\",\"legendgroup\":\"Cluster 3\",\"marker\":{\"color\":\"#ab63fa\",\"opacity\":0.5,\"symbol\":\"circle\"},\"mode\":\"markers\",\"name\":\"Cluster 3\",\"orientation\":\"v\",\"showlegend\":true,\"x\":[-0.16117344796657562,2.5622265338897705,1.832567572593689,1.4102158546447754,2.251908540725708,0.7466660737991333,2.5438647270202637,0.9574552774429321,1.6576826572418213,1.2629300355911255,0.3761504888534546,1.0345780849456787,-0.5439522862434387,1.9756194353103638,0.9002279043197632,1.4205687046051025,2.248506784439087,2.0502610206604004,0.4622088074684143,0.7396214604377747,1.3363219499588013,-1.1770859956741333,-0.4623356759548187,0.9784737825393677,0.9900799989700317,0.03848736360669136,1.7615762948989868,1.0865702629089355,1.0089088678359985,1.578275203704834,0.8353204131126404],\"xaxis\":\"x\",\"y\":[1.1644827127456665,-0.2601966857910156,1.287878155708313,2.1661901473999023,1.4327410459518433,2.312930107116699,-0.16927343606948853,2.223526954650879,0.9567128419876099,0.7708491683006287,1.0270429849624634,1.4507086277008057,0.3689265847206116,1.403282880783081,0.7639115452766418,1.4182051420211792,1.8845916986465454,1.925032138824463,-0.33074256777763367,1.408955454826355,-0.253336638212204,0.6639665365219116,0.6182865500450134,1.4455691576004028,-0.9406660795211792,1.2667620182037354,0.31714919209480286,-0.24174438416957855,-0.8698300123214722,1.4620336294174194,1.473670244216919],\"yaxis\":\"y\",\"type\":\"scatter\",\"textposition\":\"top center\"}],                        {\"template\":{\"data\":{\"bar\":[{\"error_x\":{\"color\":\"#2a3f5f\"},\"error_y\":{\"color\":\"#2a3f5f\"},\"marker\":{\"line\":{\"color\":\"#E5ECF6\",\"width\":0.5},\"pattern\":{\"fillmode\":\"overlay\",\"size\":10,\"solidity\":0.2}},\"type\":\"bar\"}],\"barpolar\":[{\"marker\":{\"line\":{\"color\":\"#E5ECF6\",\"width\":0.5},\"pattern\":{\"fillmode\":\"overlay\",\"size\":10,\"solidity\":0.2}},\"type\":\"barpolar\"}],\"carpet\":[{\"aaxis\":{\"endlinecolor\":\"#2a3f5f\",\"gridcolor\":\"white\",\"linecolor\":\"white\",\"minorgridcolor\":\"white\",\"startlinecolor\":\"#2a3f5f\"},\"baxis\":{\"endlinecolor\":\"#2a3f5f\",\"gridcolor\":\"white\",\"linecolor\":\"white\",\"minorgridcolor\":\"white\",\"startlinecolor\":\"#2a3f5f\"},\"type\":\"carpet\"}],\"choropleth\":[{\"colorbar\":{\"outlinewidth\":0,\"ticks\":\"\"},\"type\":\"choropleth\"}],\"contour\":[{\"colorbar\":{\"outlinewidth\":0,\"ticks\":\"\"},\"colorscale\":[[0.0,\"#0d0887\"],[0.1111111111111111,\"#46039f\"],[0.2222222222222222,\"#7201a8\"],[0.3333333333333333,\"#9c179e\"],[0.4444444444444444,\"#bd3786\"],[0.5555555555555556,\"#d8576b\"],[0.6666666666666666,\"#ed7953\"],[0.7777777777777778,\"#fb9f3a\"],[0.8888888888888888,\"#fdca26\"],[1.0,\"#f0f921\"]],\"type\":\"contour\"}],\"contourcarpet\":[{\"colorbar\":{\"outlinewidth\":0,\"ticks\":\"\"},\"type\":\"contourcarpet\"}],\"heatmap\":[{\"colorbar\":{\"outlinewidth\":0,\"ticks\":\"\"},\"colorscale\":[[0.0,\"#0d0887\"],[0.1111111111111111,\"#46039f\"],[0.2222222222222222,\"#7201a8\"],[0.3333333333333333,\"#9c179e\"],[0.4444444444444444,\"#bd3786\"],[0.5555555555555556,\"#d8576b\"],[0.6666666666666666,\"#ed7953\"],[0.7777777777777778,\"#fb9f3a\"],[0.8888888888888888,\"#fdca26\"],[1.0,\"#f0f921\"]],\"type\":\"heatmap\"}],\"heatmapgl\":[{\"colorbar\":{\"outlinewidth\":0,\"ticks\":\"\"},\"colorscale\":[[0.0,\"#0d0887\"],[0.1111111111111111,\"#46039f\"],[0.2222222222222222,\"#7201a8\"],[0.3333333333333333,\"#9c179e\"],[0.4444444444444444,\"#bd3786\"],[0.5555555555555556,\"#d8576b\"],[0.6666666666666666,\"#ed7953\"],[0.7777777777777778,\"#fb9f3a\"],[0.8888888888888888,\"#fdca26\"],[1.0,\"#f0f921\"]],\"type\":\"heatmapgl\"}],\"histogram\":[{\"marker\":{\"pattern\":{\"fillmode\":\"overlay\",\"size\":10,\"solidity\":0.2}},\"type\":\"histogram\"}],\"histogram2d\":[{\"colorbar\":{\"outlinewidth\":0,\"ticks\":\"\"},\"colorscale\":[[0.0,\"#0d0887\"],[0.1111111111111111,\"#46039f\"],[0.2222222222222222,\"#7201a8\"],[0.3333333333333333,\"#9c179e\"],[0.4444444444444444,\"#bd3786\"],[0.5555555555555556,\"#d8576b\"],[0.6666666666666666,\"#ed7953\"],[0.7777777777777778,\"#fb9f3a\"],[0.8888888888888888,\"#fdca26\"],[1.0,\"#f0f921\"]],\"type\":\"histogram2d\"}],\"histogram2dcontour\":[{\"colorbar\":{\"outlinewidth\":0,\"ticks\":\"\"},\"colorscale\":[[0.0,\"#0d0887\"],[0.1111111111111111,\"#46039f\"],[0.2222222222222222,\"#7201a8\"],[0.3333333333333333,\"#9c179e\"],[0.4444444444444444,\"#bd3786\"],[0.5555555555555556,\"#d8576b\"],[0.6666666666666666,\"#ed7953\"],[0.7777777777777778,\"#fb9f3a\"],[0.8888888888888888,\"#fdca26\"],[1.0,\"#f0f921\"]],\"type\":\"histogram2dcontour\"}],\"mesh3d\":[{\"colorbar\":{\"outlinewidth\":0,\"ticks\":\"\"},\"type\":\"mesh3d\"}],\"parcoords\":[{\"line\":{\"colorbar\":{\"outlinewidth\":0,\"ticks\":\"\"}},\"type\":\"parcoords\"}],\"pie\":[{\"automargin\":true,\"type\":\"pie\"}],\"scatter\":[{\"marker\":{\"colorbar\":{\"outlinewidth\":0,\"ticks\":\"\"}},\"type\":\"scatter\"}],\"scatter3d\":[{\"line\":{\"colorbar\":{\"outlinewidth\":0,\"ticks\":\"\"}},\"marker\":{\"colorbar\":{\"outlinewidth\":0,\"ticks\":\"\"}},\"type\":\"scatter3d\"}],\"scattercarpet\":[{\"marker\":{\"colorbar\":{\"outlinewidth\":0,\"ticks\":\"\"}},\"type\":\"scattercarpet\"}],\"scattergeo\":[{\"marker\":{\"colorbar\":{\"outlinewidth\":0,\"ticks\":\"\"}},\"type\":\"scattergeo\"}],\"scattergl\":[{\"marker\":{\"colorbar\":{\"outlinewidth\":0,\"ticks\":\"\"}},\"type\":\"scattergl\"}],\"scattermapbox\":[{\"marker\":{\"colorbar\":{\"outlinewidth\":0,\"ticks\":\"\"}},\"type\":\"scattermapbox\"}],\"scatterpolar\":[{\"marker\":{\"colorbar\":{\"outlinewidth\":0,\"ticks\":\"\"}},\"type\":\"scatterpolar\"}],\"scatterpolargl\":[{\"marker\":{\"colorbar\":{\"outlinewidth\":0,\"ticks\":\"\"}},\"type\":\"scatterpolargl\"}],\"scatterternary\":[{\"marker\":{\"colorbar\":{\"outlinewidth\":0,\"ticks\":\"\"}},\"type\":\"scatterternary\"}],\"surface\":[{\"colorbar\":{\"outlinewidth\":0,\"ticks\":\"\"},\"colorscale\":[[0.0,\"#0d0887\"],[0.1111111111111111,\"#46039f\"],[0.2222222222222222,\"#7201a8\"],[0.3333333333333333,\"#9c179e\"],[0.4444444444444444,\"#bd3786\"],[0.5555555555555556,\"#d8576b\"],[0.6666666666666666,\"#ed7953\"],[0.7777777777777778,\"#fb9f3a\"],[0.8888888888888888,\"#fdca26\"],[1.0,\"#f0f921\"]],\"type\":\"surface\"}],\"table\":[{\"cells\":{\"fill\":{\"color\":\"#EBF0F8\"},\"line\":{\"color\":\"white\"}},\"header\":{\"fill\":{\"color\":\"#C8D4E3\"},\"line\":{\"color\":\"white\"}},\"type\":\"table\"}]},\"layout\":{\"annotationdefaults\":{\"arrowcolor\":\"#2a3f5f\",\"arrowhead\":0,\"arrowwidth\":1},\"autotypenumbers\":\"strict\",\"coloraxis\":{\"colorbar\":{\"outlinewidth\":0,\"ticks\":\"\"}},\"colorscale\":{\"diverging\":[[0,\"#8e0152\"],[0.1,\"#c51b7d\"],[0.2,\"#de77ae\"],[0.3,\"#f1b6da\"],[0.4,\"#fde0ef\"],[0.5,\"#f7f7f7\"],[0.6,\"#e6f5d0\"],[0.7,\"#b8e186\"],[0.8,\"#7fbc41\"],[0.9,\"#4d9221\"],[1,\"#276419\"]],\"sequential\":[[0.0,\"#0d0887\"],[0.1111111111111111,\"#46039f\"],[0.2222222222222222,\"#7201a8\"],[0.3333333333333333,\"#9c179e\"],[0.4444444444444444,\"#bd3786\"],[0.5555555555555556,\"#d8576b\"],[0.6666666666666666,\"#ed7953\"],[0.7777777777777778,\"#fb9f3a\"],[0.8888888888888888,\"#fdca26\"],[1.0,\"#f0f921\"]],\"sequentialminus\":[[0.0,\"#0d0887\"],[0.1111111111111111,\"#46039f\"],[0.2222222222222222,\"#7201a8\"],[0.3333333333333333,\"#9c179e\"],[0.4444444444444444,\"#bd3786\"],[0.5555555555555556,\"#d8576b\"],[0.6666666666666666,\"#ed7953\"],[0.7777777777777778,\"#fb9f3a\"],[0.8888888888888888,\"#fdca26\"],[1.0,\"#f0f921\"]]},\"colorway\":[\"#636efa\",\"#EF553B\",\"#00cc96\",\"#ab63fa\",\"#FFA15A\",\"#19d3f3\",\"#FF6692\",\"#B6E880\",\"#FF97FF\",\"#FECB52\"],\"font\":{\"color\":\"#2a3f5f\"},\"geo\":{\"bgcolor\":\"white\",\"lakecolor\":\"white\",\"landcolor\":\"#E5ECF6\",\"showlakes\":true,\"showland\":true,\"subunitcolor\":\"white\"},\"hoverlabel\":{\"align\":\"left\"},\"hovermode\":\"closest\",\"mapbox\":{\"style\":\"light\"},\"paper_bgcolor\":\"white\",\"plot_bgcolor\":\"#E5ECF6\",\"polar\":{\"angularaxis\":{\"gridcolor\":\"white\",\"linecolor\":\"white\",\"ticks\":\"\"},\"bgcolor\":\"#E5ECF6\",\"radialaxis\":{\"gridcolor\":\"white\",\"linecolor\":\"white\",\"ticks\":\"\"}},\"scene\":{\"xaxis\":{\"backgroundcolor\":\"#E5ECF6\",\"gridcolor\":\"white\",\"gridwidth\":2,\"linecolor\":\"white\",\"showbackground\":true,\"ticks\":\"\",\"zerolinecolor\":\"white\"},\"yaxis\":{\"backgroundcolor\":\"#E5ECF6\",\"gridcolor\":\"white\",\"gridwidth\":2,\"linecolor\":\"white\",\"showbackground\":true,\"ticks\":\"\",\"zerolinecolor\":\"white\"},\"zaxis\":{\"backgroundcolor\":\"#E5ECF6\",\"gridcolor\":\"white\",\"gridwidth\":2,\"linecolor\":\"white\",\"showbackground\":true,\"ticks\":\"\",\"zerolinecolor\":\"white\"}},\"shapedefaults\":{\"line\":{\"color\":\"#2a3f5f\"}},\"ternary\":{\"aaxis\":{\"gridcolor\":\"white\",\"linecolor\":\"white\",\"ticks\":\"\"},\"baxis\":{\"gridcolor\":\"white\",\"linecolor\":\"white\",\"ticks\":\"\"},\"bgcolor\":\"#E5ECF6\",\"caxis\":{\"gridcolor\":\"white\",\"linecolor\":\"white\",\"ticks\":\"\"}},\"title\":{\"x\":0.05},\"xaxis\":{\"automargin\":true,\"gridcolor\":\"white\",\"linecolor\":\"white\",\"ticks\":\"\",\"title\":{\"standoff\":15},\"zerolinecolor\":\"white\",\"zerolinewidth\":2},\"yaxis\":{\"automargin\":true,\"gridcolor\":\"white\",\"linecolor\":\"white\",\"ticks\":\"\",\"title\":{\"standoff\":15},\"zerolinecolor\":\"white\",\"zerolinewidth\":2}}},\"xaxis\":{\"anchor\":\"y\",\"domain\":[0.0,1.0],\"title\":{\"text\":\"PCA1\"}},\"yaxis\":{\"anchor\":\"x\",\"domain\":[0.0,1.0],\"title\":{\"text\":\"PCA2\"}},\"legend\":{\"title\":{\"text\":\"Cluster\"},\"tracegroupgap\":0},\"margin\":{\"t\":60},\"plot_bgcolor\":\"rgb(240,240,240)\",\"title\":{\"text\":\"2D Cluster PCA Plot\"},\"height\":600},                        {\"responsive\": true}                    ).then(function(){\n",
       "                            \n",
       "var gd = document.getElementById('dd64560d-7bfb-4bc2-b798-f5db244c7411');\n",
       "var x = new MutationObserver(function (mutations, observer) {{\n",
       "        var display = window.getComputedStyle(gd).display;\n",
       "        if (!display || display === 'none') {{\n",
       "            console.log([gd, 'removed!']);\n",
       "            Plotly.purge(gd);\n",
       "            observer.disconnect();\n",
       "        }}\n",
       "}});\n",
       "\n",
       "// Listen for the removal of the full notebook cells\n",
       "var notebookContainer = gd.closest('#notebook-container');\n",
       "if (notebookContainer) {{\n",
       "    x.observe(notebookContainer, {childList: true});\n",
       "}}\n",
       "\n",
       "// Listen for the clearing of the current output cell\n",
       "var outputEl = gd.closest('.output');\n",
       "if (outputEl) {{\n",
       "    x.observe(outputEl, {childList: true});\n",
       "}}\n",
       "\n",
       "                        })                };                });            </script>        </div>"
      ]
     },
     "metadata": {},
     "output_type": "display_data"
    }
   ],
   "source": [
    "plot_model(kmeans, plot = 'cluster')"
   ]
  },
  {
   "cell_type": "code",
   "execution_count": 8,
   "id": "375e8d26",
   "metadata": {},
   "outputs": [
    {
     "data": {
      "image/png": "[encoded data removed]",
      "text/plain": [
       "<Figure size 576x396 with 1 Axes>"
      ]
     },
     "metadata": {},
     "output_type": "display_data"
    }
   ],
   "source": [
    "plot_model(kmeans, plot = 'elbow')"
   ]
  },
  {
   "cell_type": "code",
   "execution_count": 9,
   "id": "05fc51e7",
   "metadata": {},
   "outputs": [
    {
     "data": {
      "image/png": "[encoded data removed]",
      "text/plain": [
       "<Figure size 576x396 with 1 Axes>"
      ]
     },
     "metadata": {},
     "output_type": "display_data"
    }
   ],
   "source": [
    "plot_model(kmeans, plot = 'silhouette')"
   ]
  },
  {
   "cell_type": "code",
   "execution_count": 10,
   "id": "bec07882",
   "metadata": {},
   "outputs": [
    {
     "data": {
      "text/html": [
       "<div>\n",
       "<style scoped>\n",
       "    .dataframe tbody tr th:only-of-type {\n",
       "        vertical-align: middle;\n",
       "    }\n",
       "\n",
       "    .dataframe tbody tr th {\n",
       "        vertical-align: top;\n",
       "    }\n",
       "\n",
       "    .dataframe thead th {\n",
       "        text-align: right;\n",
       "    }\n",
       "</style>\n",
       "<table border=\"1\" class=\"dataframe\">\n",
       "  <thead>\n",
       "    <tr style=\"text-align: right;\">\n",
       "      <th></th>\n",
       "      <th>Alcohol</th>\n",
       "      <th>Malic_Acid</th>\n",
       "      <th>Ash</th>\n",
       "      <th>Ash_Alcanity</th>\n",
       "      <th>Magnesium</th>\n",
       "      <th>Total_Phenols</th>\n",
       "      <th>Flavanoids</th>\n",
       "      <th>Nonflavanoid_Phenols</th>\n",
       "      <th>Proanthocyanins</th>\n",
       "      <th>Color_Intensity</th>\n",
       "      <th>Hue</th>\n",
       "      <th>OD280</th>\n",
       "      <th>Proline</th>\n",
       "      <th>Cluster</th>\n",
       "    </tr>\n",
       "  </thead>\n",
       "  <tbody>\n",
       "    <tr>\n",
       "      <th>69</th>\n",
       "      <td>12.21</td>\n",
       "      <td>1.19</td>\n",
       "      <td>1.75</td>\n",
       "      <td>16.8</td>\n",
       "      <td>151</td>\n",
       "      <td>1.85</td>\n",
       "      <td>1.28</td>\n",
       "      <td>0.14</td>\n",
       "      <td>2.50</td>\n",
       "      <td>2.85</td>\n",
       "      <td>1.28</td>\n",
       "      <td>3.07</td>\n",
       "      <td>718</td>\n",
       "      <td>Cluster 3</td>\n",
       "    </tr>\n",
       "    <tr>\n",
       "      <th>67</th>\n",
       "      <td>12.37</td>\n",
       "      <td>1.17</td>\n",
       "      <td>1.92</td>\n",
       "      <td>19.6</td>\n",
       "      <td>78</td>\n",
       "      <td>2.11</td>\n",
       "      <td>2.00</td>\n",
       "      <td>0.27</td>\n",
       "      <td>1.04</td>\n",
       "      <td>4.68</td>\n",
       "      <td>1.12</td>\n",
       "      <td>3.48</td>\n",
       "      <td>510</td>\n",
       "      <td>Cluster 1</td>\n",
       "    </tr>\n",
       "    <tr>\n",
       "      <th>24</th>\n",
       "      <td>13.50</td>\n",
       "      <td>1.81</td>\n",
       "      <td>2.61</td>\n",
       "      <td>20.0</td>\n",
       "      <td>96</td>\n",
       "      <td>2.53</td>\n",
       "      <td>2.61</td>\n",
       "      <td>0.28</td>\n",
       "      <td>1.66</td>\n",
       "      <td>3.52</td>\n",
       "      <td>1.12</td>\n",
       "      <td>3.82</td>\n",
       "      <td>845</td>\n",
       "      <td>Cluster 3</td>\n",
       "    </tr>\n",
       "    <tr>\n",
       "      <th>97</th>\n",
       "      <td>12.29</td>\n",
       "      <td>1.41</td>\n",
       "      <td>1.98</td>\n",
       "      <td>16.0</td>\n",
       "      <td>85</td>\n",
       "      <td>2.55</td>\n",
       "      <td>2.50</td>\n",
       "      <td>0.29</td>\n",
       "      <td>1.77</td>\n",
       "      <td>2.90</td>\n",
       "      <td>1.23</td>\n",
       "      <td>2.74</td>\n",
       "      <td>428</td>\n",
       "      <td>Cluster 1</td>\n",
       "    </tr>\n",
       "    <tr>\n",
       "      <th>133</th>\n",
       "      <td>12.70</td>\n",
       "      <td>3.55</td>\n",
       "      <td>2.36</td>\n",
       "      <td>21.5</td>\n",
       "      <td>106</td>\n",
       "      <td>1.70</td>\n",
       "      <td>1.20</td>\n",
       "      <td>0.17</td>\n",
       "      <td>0.84</td>\n",
       "      <td>5.00</td>\n",
       "      <td>0.78</td>\n",
       "      <td>1.29</td>\n",
       "      <td>600</td>\n",
       "      <td>Cluster 2</td>\n",
       "    </tr>\n",
       "  </tbody>\n",
       "</table>\n",
       "</div>"
      ],
      "text/plain": [
       "     Alcohol  Malic_Acid   Ash  Ash_Alcanity  Magnesium  Total_Phenols  \\\n",
       "69     12.21        1.19  1.75          16.8        151           1.85   \n",
       "67     12.37        1.17  1.92          19.6         78           2.11   \n",
       "24     13.50        1.81  2.61          20.0         96           2.53   \n",
       "97     12.29        1.41  1.98          16.0         85           2.55   \n",
       "133    12.70        3.55  2.36          21.5        106           1.70   \n",
       "\n",
       "     Flavanoids  Nonflavanoid_Phenols  Proanthocyanins  Color_Intensity   Hue  \\\n",
       "69         1.28                  0.14             2.50             2.85  1.28   \n",
       "67         2.00                  0.27             1.04             4.68  1.12   \n",
       "24         2.61                  0.28             1.66             3.52  1.12   \n",
       "97         2.50                  0.29             1.77             2.90  1.23   \n",
       "133        1.20                  0.17             0.84             5.00  0.78   \n",
       "\n",
       "     OD280  Proline    Cluster  \n",
       "69    3.07      718  Cluster 3  \n",
       "67    3.48      510  Cluster 1  \n",
       "24    3.82      845  Cluster 3  \n",
       "97    2.74      428  Cluster 1  \n",
       "133   1.29      600  Cluster 2  "
      ]
     },
     "execution_count": 10,
     "metadata": {},
     "output_type": "execute_result"
    }
   ],
   "source": [
    "result = assign_model(kmeans)\n",
    "result.sample(5)"
   ]
  },
  {
   "cell_type": "code",
   "execution_count": 11,
   "id": "8bc55164",
   "metadata": {},
   "outputs": [
    {
     "data": {
      "text/html": [
       "<div>\n",
       "<style scoped>\n",
       "    .dataframe tbody tr th:only-of-type {\n",
       "        vertical-align: middle;\n",
       "    }\n",
       "\n",
       "    .dataframe tbody tr th {\n",
       "        vertical-align: top;\n",
       "    }\n",
       "\n",
       "    .dataframe thead th {\n",
       "        text-align: right;\n",
       "    }\n",
       "</style>\n",
       "<table border=\"1\" class=\"dataframe\">\n",
       "  <thead>\n",
       "    <tr style=\"text-align: right;\">\n",
       "      <th></th>\n",
       "      <th>Alcohol</th>\n",
       "      <th>Malic_Acid</th>\n",
       "      <th>Ash</th>\n",
       "      <th>Ash_Alcanity</th>\n",
       "      <th>Magnesium</th>\n",
       "      <th>Total_Phenols</th>\n",
       "      <th>Flavanoids</th>\n",
       "      <th>Nonflavanoid_Phenols</th>\n",
       "      <th>Proanthocyanins</th>\n",
       "      <th>Color_Intensity</th>\n",
       "      <th>Hue</th>\n",
       "      <th>OD280</th>\n",
       "      <th>Proline</th>\n",
       "      <th>Cluster</th>\n",
       "    </tr>\n",
       "  </thead>\n",
       "  <tbody>\n",
       "    <tr>\n",
       "      <th>31</th>\n",
       "      <td>13.58</td>\n",
       "      <td>1.66</td>\n",
       "      <td>2.36</td>\n",
       "      <td>19.1</td>\n",
       "      <td>106</td>\n",
       "      <td>2.86</td>\n",
       "      <td>3.19</td>\n",
       "      <td>0.22</td>\n",
       "      <td>1.95</td>\n",
       "      <td>6.90</td>\n",
       "      <td>1.09</td>\n",
       "      <td>2.88</td>\n",
       "      <td>1515</td>\n",
       "      <td>Cluster 0</td>\n",
       "    </tr>\n",
       "    <tr>\n",
       "      <th>71</th>\n",
       "      <td>13.86</td>\n",
       "      <td>1.51</td>\n",
       "      <td>2.67</td>\n",
       "      <td>25.0</td>\n",
       "      <td>86</td>\n",
       "      <td>2.95</td>\n",
       "      <td>2.86</td>\n",
       "      <td>0.21</td>\n",
       "      <td>1.87</td>\n",
       "      <td>3.38</td>\n",
       "      <td>1.36</td>\n",
       "      <td>3.16</td>\n",
       "      <td>410</td>\n",
       "      <td>Cluster 3</td>\n",
       "    </tr>\n",
       "    <tr>\n",
       "      <th>114</th>\n",
       "      <td>12.08</td>\n",
       "      <td>1.39</td>\n",
       "      <td>2.50</td>\n",
       "      <td>22.5</td>\n",
       "      <td>84</td>\n",
       "      <td>2.56</td>\n",
       "      <td>2.29</td>\n",
       "      <td>0.43</td>\n",
       "      <td>1.04</td>\n",
       "      <td>2.90</td>\n",
       "      <td>0.93</td>\n",
       "      <td>3.19</td>\n",
       "      <td>385</td>\n",
       "      <td>Cluster 1</td>\n",
       "    </tr>\n",
       "    <tr>\n",
       "      <th>25</th>\n",
       "      <td>13.05</td>\n",
       "      <td>2.05</td>\n",
       "      <td>3.22</td>\n",
       "      <td>25.0</td>\n",
       "      <td>124</td>\n",
       "      <td>2.63</td>\n",
       "      <td>2.68</td>\n",
       "      <td>0.47</td>\n",
       "      <td>1.92</td>\n",
       "      <td>3.58</td>\n",
       "      <td>1.13</td>\n",
       "      <td>3.20</td>\n",
       "      <td>830</td>\n",
       "      <td>Cluster 3</td>\n",
       "    </tr>\n",
       "    <tr>\n",
       "      <th>158</th>\n",
       "      <td>14.34</td>\n",
       "      <td>1.68</td>\n",
       "      <td>2.70</td>\n",
       "      <td>25.0</td>\n",
       "      <td>98</td>\n",
       "      <td>2.80</td>\n",
       "      <td>1.31</td>\n",
       "      <td>0.53</td>\n",
       "      <td>2.70</td>\n",
       "      <td>13.00</td>\n",
       "      <td>0.57</td>\n",
       "      <td>1.96</td>\n",
       "      <td>660</td>\n",
       "      <td>Cluster 2</td>\n",
       "    </tr>\n",
       "    <tr>\n",
       "      <th>65</th>\n",
       "      <td>12.37</td>\n",
       "      <td>1.21</td>\n",
       "      <td>2.56</td>\n",
       "      <td>18.1</td>\n",
       "      <td>98</td>\n",
       "      <td>2.42</td>\n",
       "      <td>2.65</td>\n",
       "      <td>0.37</td>\n",
       "      <td>2.08</td>\n",
       "      <td>4.60</td>\n",
       "      <td>1.19</td>\n",
       "      <td>2.30</td>\n",
       "      <td>678</td>\n",
       "      <td>Cluster 3</td>\n",
       "    </tr>\n",
       "    <tr>\n",
       "      <th>7</th>\n",
       "      <td>14.06</td>\n",
       "      <td>2.15</td>\n",
       "      <td>2.61</td>\n",
       "      <td>17.6</td>\n",
       "      <td>121</td>\n",
       "      <td>2.60</td>\n",
       "      <td>2.51</td>\n",
       "      <td>0.31</td>\n",
       "      <td>1.25</td>\n",
       "      <td>5.05</td>\n",
       "      <td>1.06</td>\n",
       "      <td>3.58</td>\n",
       "      <td>1295</td>\n",
       "      <td>Cluster 0</td>\n",
       "    </tr>\n",
       "    <tr>\n",
       "      <th>139</th>\n",
       "      <td>12.84</td>\n",
       "      <td>2.96</td>\n",
       "      <td>2.61</td>\n",
       "      <td>24.0</td>\n",
       "      <td>101</td>\n",
       "      <td>2.32</td>\n",
       "      <td>0.60</td>\n",
       "      <td>0.53</td>\n",
       "      <td>0.81</td>\n",
       "      <td>4.92</td>\n",
       "      <td>0.89</td>\n",
       "      <td>2.15</td>\n",
       "      <td>590</td>\n",
       "      <td>Cluster 2</td>\n",
       "    </tr>\n",
       "    <tr>\n",
       "      <th>82</th>\n",
       "      <td>12.08</td>\n",
       "      <td>1.13</td>\n",
       "      <td>2.51</td>\n",
       "      <td>24.0</td>\n",
       "      <td>78</td>\n",
       "      <td>2.00</td>\n",
       "      <td>1.58</td>\n",
       "      <td>0.40</td>\n",
       "      <td>1.40</td>\n",
       "      <td>2.20</td>\n",
       "      <td>1.31</td>\n",
       "      <td>2.72</td>\n",
       "      <td>630</td>\n",
       "      <td>Cluster 1</td>\n",
       "    </tr>\n",
       "    <tr>\n",
       "      <th>165</th>\n",
       "      <td>13.73</td>\n",
       "      <td>4.36</td>\n",
       "      <td>2.26</td>\n",
       "      <td>22.5</td>\n",
       "      <td>88</td>\n",
       "      <td>1.28</td>\n",
       "      <td>0.47</td>\n",
       "      <td>0.52</td>\n",
       "      <td>1.15</td>\n",
       "      <td>6.62</td>\n",
       "      <td>0.78</td>\n",
       "      <td>1.75</td>\n",
       "      <td>520</td>\n",
       "      <td>Cluster 2</td>\n",
       "    </tr>\n",
       "  </tbody>\n",
       "</table>\n",
       "</div>"
      ],
      "text/plain": [
       "     Alcohol  Malic_Acid   Ash  Ash_Alcanity  Magnesium  Total_Phenols  \\\n",
       "31     13.58        1.66  2.36          19.1        106           2.86   \n",
       "71     13.86        1.51  2.67          25.0         86           2.95   \n",
       "114    12.08        1.39  2.50          22.5         84           2.56   \n",
       "25     13.05        2.05  3.22          25.0        124           2.63   \n",
       "158    14.34        1.68  2.70          25.0         98           2.80   \n",
       "65     12.37        1.21  2.56          18.1         98           2.42   \n",
       "7      14.06        2.15  2.61          17.6        121           2.60   \n",
       "139    12.84        2.96  2.61          24.0        101           2.32   \n",
       "82     12.08        1.13  2.51          24.0         78           2.00   \n",
       "165    13.73        4.36  2.26          22.5         88           1.28   \n",
       "\n",
       "     Flavanoids  Nonflavanoid_Phenols  Proanthocyanins  Color_Intensity   Hue  \\\n",
       "31         3.19                  0.22             1.95             6.90  1.09   \n",
       "71         2.86                  0.21             1.87             3.38  1.36   \n",
       "114        2.29                  0.43             1.04             2.90  0.93   \n",
       "25         2.68                  0.47             1.92             3.58  1.13   \n",
       "158        1.31                  0.53             2.70            13.00  0.57   \n",
       "65         2.65                  0.37             2.08             4.60  1.19   \n",
       "7          2.51                  0.31             1.25             5.05  1.06   \n",
       "139        0.60                  0.53             0.81             4.92  0.89   \n",
       "82         1.58                  0.40             1.40             2.20  1.31   \n",
       "165        0.47                  0.52             1.15             6.62  0.78   \n",
       "\n",
       "     OD280  Proline    Cluster  \n",
       "31    2.88     1515  Cluster 0  \n",
       "71    3.16      410  Cluster 3  \n",
       "114   3.19      385  Cluster 1  \n",
       "25    3.20      830  Cluster 3  \n",
       "158   1.96      660  Cluster 2  \n",
       "65    2.30      678  Cluster 3  \n",
       "7     3.58     1295  Cluster 0  \n",
       "139   2.15      590  Cluster 2  \n",
       "82    2.72      630  Cluster 1  \n",
       "165   1.75      520  Cluster 2  "
      ]
     },
     "execution_count": 11,
     "metadata": {},
     "output_type": "execute_result"
    }
   ],
   "source": [
    "predictions = predict_model(kmeans, data = df)\n",
    "predictions.sample(10)"
   ]
  },
  {
   "cell_type": "code",
   "execution_count": 12,
   "id": "aac049fa",
   "metadata": {},
   "outputs": [
    {
     "name": "stdout",
     "output_type": "stream",
     "text": [
      "Transformation Pipeline and Model Successfully Saved\n"
     ]
    },
    {
     "data": {
      "text/plain": [
       "(Pipeline(memory=None,\n",
       "          steps=[('dtypes',\n",
       "                  DataTypes_Auto_infer(categorical_features=[],\n",
       "                                       display_types=True, features_todrop=[],\n",
       "                                       id_columns=[], ml_usecase='regression',\n",
       "                                       numerical_features=[],\n",
       "                                       target='UNSUPERVISED_DUMMY_TARGET',\n",
       "                                       time_features=[])),\n",
       "                 ('imputer',\n",
       "                  Simple_Imputer(categorical_strategy='most frequent',\n",
       "                                 fill_value_categorical=None,\n",
       "                                 fill_value_numerical=None...\n",
       "                 ('fix_perfect', 'passthrough'),\n",
       "                 ('clean_names', Clean_Colum_Names()),\n",
       "                 ('feature_select', 'passthrough'), ('fix_multi', 'passthrough'),\n",
       "                 ('dfs', 'passthrough'), ('pca', 'passthrough'),\n",
       "                 ['trained_model',\n",
       "                  KMeans(algorithm='auto', copy_x=True, init='k-means++',\n",
       "                         max_iter=300, n_clusters=4, n_init=10, n_jobs=-1,\n",
       "                         precompute_distances='deprecated', random_state=8353,\n",
       "                         tol=0.0001, verbose=0)]],\n",
       "          verbose=False),\n",
       " 'kmeans_pipeline.pkl')"
      ]
     },
     "execution_count": 12,
     "metadata": {},
     "output_type": "execute_result"
    }
   ],
   "source": [
    "save_model(kmeans, 'kmeans_pipeline')"
   ]
  },
  {
   "cell_type": "code",
   "execution_count": 13,
   "id": "ab93a78b",
   "metadata": {},
   "outputs": [
    {
     "name": "stdout",
     "output_type": "stream",
     "text": [
      "Transformation Pipeline and Model Successfully Loaded\n",
      "Pipeline(memory=None,\n",
      "         steps=[('dtypes',\n",
      "                 DataTypes_Auto_infer(categorical_features=[],\n",
      "                                      display_types=True, features_todrop=[],\n",
      "                                      id_columns=[], ml_usecase='regression',\n",
      "                                      numerical_features=[],\n",
      "                                      target='UNSUPERVISED_DUMMY_TARGET',\n",
      "                                      time_features=[])),\n",
      "                ('imputer',\n",
      "                 Simple_Imputer(categorical_strategy='most frequent',\n",
      "                                fill_value_categorical=None,\n",
      "                                fill_value_numerical=None...\n",
      "                ('fix_perfect', 'passthrough'),\n",
      "                ('clean_names', Clean_Colum_Names()),\n",
      "                ('feature_select', 'passthrough'), ('fix_multi', 'passthrough'),\n",
      "                ('dfs', 'passthrough'), ('pca', 'passthrough'),\n",
      "                ['trained_model',\n",
      "                 KMeans(algorithm='auto', copy_x=True, init='k-means++',\n",
      "                        max_iter=300, n_clusters=4, n_init=10, n_jobs=-1,\n",
      "                        precompute_distances='deprecated', random_state=8353,\n",
      "                        tol=0.0001, verbose=0)]],\n",
      "         verbose=False)\n"
     ]
    }
   ],
   "source": [
    "loaded_model = load_model('kmeans_pipeline')\n",
    "print(loaded_model)"
   ]
  },
  {
   "cell_type": "code",
   "execution_count": null,
   "id": "eaafad04",
   "metadata": {},
   "outputs": [],
   "source": []
  }
 ],
 "metadata": {
  "kernelspec": {
   "display_name": "Python 3 (ipykernel)",
   "language": "python",
   "name": "python3"
  },
  "language_info": {
   "codemirror_mode": {
    "name": "ipython",
    "version": 3
   },
   "file_extension": ".py",
   "mimetype": "text/x-python",
   "name": "python",
   "nbconvert_exporter": "python",
   "pygments_lexer": "ipython3",
   "version": "3.9.12"
  }
 },
 "nbformat": 4,
 "nbformat_minor": 5
}
